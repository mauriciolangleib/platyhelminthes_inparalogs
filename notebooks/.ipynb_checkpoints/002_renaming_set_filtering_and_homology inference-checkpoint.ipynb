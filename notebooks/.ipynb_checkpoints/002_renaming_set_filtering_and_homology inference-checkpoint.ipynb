{
 "cells": [
  {
   "cell_type": "markdown",
   "id": "2dc9b0d0-f6a5-4149-bfe3-a945110cd5d2",
   "metadata": {},
   "source": [
    "# Overview"
   ]
  },
  {
   "cell_type": "code",
   "execution_count": 5,
   "id": "6486bc54-71a8-4177-b419-6950ca613880",
   "metadata": {},
   "outputs": [],
   "source": [
    "import pandas as pd\n",
    "\n",
    "platys_data = pd.read_csv('../data/species_Platyhelminthes--___.csv')"
   ]
  },
  {
   "cell_type": "code",
   "execution_count": 6,
   "id": "d9497fe5-452f-4731-b539-31c511e8eab9",
   "metadata": {},
   "outputs": [
    {
     "data": {
      "text/html": [
       "<div>\n",
       "<style scoped>\n",
       "    .dataframe tbody tr th:only-of-type {\n",
       "        vertical-align: middle;\n",
       "    }\n",
       "\n",
       "    .dataframe tbody tr th {\n",
       "        vertical-align: top;\n",
       "    }\n",
       "\n",
       "    .dataframe thead th {\n",
       "        text-align: right;\n",
       "    }\n",
       "</style>\n",
       "<table border=\"1\" class=\"dataframe\">\n",
       "  <thead>\n",
       "    <tr style=\"text-align: right;\">\n",
       "      <th></th>\n",
       "      <th>Species Name</th>\n",
       "      <th>Provider</th>\n",
       "      <th>Assembly</th>\n",
       "      <th>BioProject ID</th>\n",
       "      <th>Clade</th>\n",
       "      <th>Genome Browser</th>\n",
       "      <th>N50</th>\n",
       "      <th>Genome Size</th>\n",
       "      <th>Number of Scaffolds</th>\n",
       "      <th>Number of Coding Genes</th>\n",
       "    </tr>\n",
       "  </thead>\n",
       "  <tbody>\n",
       "    <tr>\n",
       "      <th>0</th>\n",
       "      <td>Atriophallophorus winterbourni</td>\n",
       "      <td>Swiss Federal Institute of Technology in Zurich</td>\n",
       "      <td>ASM1340708v1</td>\n",
       "      <td>PRJNA636673</td>\n",
       "      <td>Trematoda (Flukes)</td>\n",
       "      <td>JBrowse | Ensembl</td>\n",
       "      <td>39,978</td>\n",
       "      <td>601,728,533</td>\n",
       "      <td>26,114</td>\n",
       "      <td>11,499</td>\n",
       "    </tr>\n",
       "    <tr>\n",
       "      <th>1</th>\n",
       "      <td>Clonorchis sinensis</td>\n",
       "      <td>Sun Yat-sen University</td>\n",
       "      <td>C_sinensis-2.0</td>\n",
       "      <td>PRJDA72781</td>\n",
       "      <td>Trematoda (Flukes)</td>\n",
       "      <td>JBrowse | Ensembl</td>\n",
       "      <td>415,842</td>\n",
       "      <td>547,288,241</td>\n",
       "      <td>4,348</td>\n",
       "      <td>13,634</td>\n",
       "    </tr>\n",
       "    <tr>\n",
       "      <th>2</th>\n",
       "      <td>Clonorchis sinensis</td>\n",
       "      <td>The University of Melbourne</td>\n",
       "      <td>CSKR.v2</td>\n",
       "      <td>PRJNA386618</td>\n",
       "      <td>Trematoda (Flukes)</td>\n",
       "      <td>JBrowse | Ensembl</td>\n",
       "      <td>168,711,085</td>\n",
       "      <td>558,124,894</td>\n",
       "      <td>78</td>\n",
       "      <td>13,489</td>\n",
       "    </tr>\n",
       "    <tr>\n",
       "      <th>3</th>\n",
       "      <td>Dibothriocephalus latus</td>\n",
       "      <td>Wellcome Sanger Institute</td>\n",
       "      <td>D_latum_Geneva_0011_upd</td>\n",
       "      <td>PRJEB1206</td>\n",
       "      <td>Cestoda (Tapeworms)</td>\n",
       "      <td>JBrowse | Ensembl</td>\n",
       "      <td>6,726</td>\n",
       "      <td>531,434,409</td>\n",
       "      <td>140,294</td>\n",
       "      <td>19,966</td>\n",
       "    </tr>\n",
       "    <tr>\n",
       "      <th>4</th>\n",
       "      <td>Dicrocoelium dendriticum</td>\n",
       "      <td>Wellcome Sanger Institute</td>\n",
       "      <td>tdDicDend1.1</td>\n",
       "      <td>PRJEB44434</td>\n",
       "      <td>Trematoda (Flukes)</td>\n",
       "      <td>JBrowse | Ensembl</td>\n",
       "      <td>117,106,881</td>\n",
       "      <td>1,889,995,958</td>\n",
       "      <td>19,456</td>\n",
       "      <td>13,685</td>\n",
       "    </tr>\n",
       "  </tbody>\n",
       "</table>\n",
       "</div>"
      ],
      "text/plain": [
       "                     Species Name  \\\n",
       "0  Atriophallophorus winterbourni   \n",
       "1             Clonorchis sinensis   \n",
       "2             Clonorchis sinensis   \n",
       "3         Dibothriocephalus latus   \n",
       "4        Dicrocoelium dendriticum   \n",
       "\n",
       "                                          Provider                 Assembly  \\\n",
       "0  Swiss Federal Institute of Technology in Zurich             ASM1340708v1   \n",
       "1                           Sun Yat-sen University           C_sinensis-2.0   \n",
       "2                      The University of Melbourne                  CSKR.v2   \n",
       "3                        Wellcome Sanger Institute  D_latum_Geneva_0011_upd   \n",
       "4                        Wellcome Sanger Institute             tdDicDend1.1   \n",
       "\n",
       "  BioProject ID                Clade     Genome Browser          N50  \\\n",
       "0   PRJNA636673   Trematoda (Flukes)  JBrowse | Ensembl       39,978   \n",
       "1    PRJDA72781   Trematoda (Flukes)  JBrowse | Ensembl      415,842   \n",
       "2   PRJNA386618   Trematoda (Flukes)  JBrowse | Ensembl  168,711,085   \n",
       "3     PRJEB1206  Cestoda (Tapeworms)  JBrowse | Ensembl        6,726   \n",
       "4    PRJEB44434   Trematoda (Flukes)  JBrowse | Ensembl  117,106,881   \n",
       "\n",
       "     Genome Size Number of Scaffolds Number of Coding Genes  \n",
       "0    601,728,533              26,114                 11,499  \n",
       "1    547,288,241               4,348                 13,634  \n",
       "2    558,124,894                  78                 13,489  \n",
       "3    531,434,409             140,294                 19,966  \n",
       "4  1,889,995,958              19,456                 13,685  "
      ]
     },
     "execution_count": 6,
     "metadata": {},
     "output_type": "execute_result"
    }
   ],
   "source": [
    "platys_data.head()"
   ]
  },
  {
   "cell_type": "markdown",
   "id": "b72d2bbd-c7ba-40c0-b8b0-4d55df03157a",
   "metadata": {},
   "source": [
    "# Filtering by isoform length"
   ]
  },
  {
   "cell_type": "code",
   "execution_count": 24,
   "id": "9d7c6a6d-517d-4d48-8996-acc843ca3f05",
   "metadata": {},
   "outputs": [],
   "source": [
    "import rpy2, tqdm"
   ]
  },
  {
   "cell_type": "code",
   "execution_count": 16,
   "id": "6a1e61e7-9e59-452d-b32b-bedd81139be4",
   "metadata": {},
   "outputs": [],
   "source": [
    "%load_ext rpy2.ipython"
   ]
  },
  {
   "cell_type": "code",
   "execution_count": 20,
   "id": "f6c8a455-37c0-4fdd-a67d-e2ceb5873cb9",
   "metadata": {},
   "outputs": [
    {
     "name": "stderr",
     "output_type": "stream",
     "text": [
      "R[write to console]: Loading required package: data.table\n",
      "\n",
      "R[write to console]: data.table 1.15.2 using 2 threads (see ?getDTthreads).  \n",
      "R[write to console]: Latest news: r-datatable.com\n",
      "\n"
     ]
    },
    {
     "data": {
      "text/plain": [
       "array(['orthologr', 'data.table', 'tools', 'stats', 'graphics',\n",
       "       'grDevices', 'utils', 'datasets', 'methods', 'base'], dtype='<U10')"
      ]
     },
     "execution_count": 20,
     "metadata": {},
     "output_type": "execute_result"
    }
   ],
   "source": [
    "%R library(orthologr)"
   ]
  },
  {
   "cell_type": "code",
   "execution_count": 36,
   "id": "bf2362be-c78a-4279-9a5d-22c71caa52f6",
   "metadata": {},
   "outputs": [
    {
     "name": "stdout",
     "output_type": "stream",
     "text": [
      "../data/platyhelminthes_dataset_vfinal/clonorchis_sinensis.PRJDA72781.WBPS18.annotations.gff3.gz\n",
      "../data/platyhelminthes_dataset_vfinal/clonorchis_sinensis.PRJDA72781.WBPS18.canonical_geneset.gtf.gz\n",
      "../data/platyhelminthes_dataset_vfinal/clonorchis_sinensis.PRJDA72781.WBPS18.protein.fa.gz\n",
      "../data/platyhelminthes_dataset_vfinal/clonorchis_sinensis.PRJNA386618.WBPS18.annotations.gff3.gz\n",
      "../data/platyhelminthes_dataset_vfinal/clonorchis_sinensis.PRJNA386618.WBPS18.canonical_geneset.gtf.gz\n",
      "../data/platyhelminthes_dataset_vfinal/clonorchis_sinensis.PRJNA386618.WBPS18.protein.fa.gz\n",
      "../data/platyhelminthes_dataset_vfinal/echinococcus_canadensis.PRJEB8992.WBPS18.annotations.gff3.gz\n",
      "../data/platyhelminthes_dataset_vfinal/echinococcus_canadensis.PRJEB8992.WBPS18.canonical_geneset.gtf.gz\n",
      "../data/platyhelminthes_dataset_vfinal/echinococcus_canadensis.PRJEB8992.WBPS18.protein.fa.gz\n",
      "../data/platyhelminthes_dataset_vfinal/echinococcus_granulosus.PRJEB121.WBPS18.annotations.gff3.gz\n",
      "../data/platyhelminthes_dataset_vfinal/echinococcus_granulosus.PRJEB121.WBPS18.canonical_geneset.gtf.gz\n",
      "../data/platyhelminthes_dataset_vfinal/echinococcus_granulosus.PRJEB121.WBPS18.protein.fa.gz\n",
      "../data/platyhelminthes_dataset_vfinal/echinococcus_granulosus.PRJNA182977.WBPS18.annotations.gff3.gz\n",
      "../data/platyhelminthes_dataset_vfinal/echinococcus_granulosus.PRJNA182977.WBPS18.canonical_geneset.gtf.gz\n",
      "../data/platyhelminthes_dataset_vfinal/echinococcus_granulosus.PRJNA182977.WBPS18.protein.fa.gz\n",
      "../data/platyhelminthes_dataset_vfinal/echinococcus_multilocularis.PRJEB122.WBPS18.annotations.gff3.gz\n",
      "../data/platyhelminthes_dataset_vfinal/echinococcus_multilocularis.PRJEB122.WBPS18.canonical_geneset.gtf.gz\n",
      "../data/platyhelminthes_dataset_vfinal/echinococcus_multilocularis.PRJEB122.WBPS18.protein.fa.gz\n",
      "../data/platyhelminthes_dataset_vfinal/fasciola_hepatica.PRJEB25283.WBPS18.annotations.gff3.gz\n",
      "../data/platyhelminthes_dataset_vfinal/fasciola_hepatica.PRJEB25283.WBPS18.canonical_geneset.gtf.gz\n",
      "../data/platyhelminthes_dataset_vfinal/fasciola_hepatica.PRJEB25283.WBPS18.protein.fa.gz\n",
      "../data/platyhelminthes_dataset_vfinal/hymenolepis_diminuta.PRJEB30942.WBPS18.annotations.gff3.gz\n",
      "../data/platyhelminthes_dataset_vfinal/hymenolepis_diminuta.PRJEB30942.WBPS18.canonical_geneset.gtf.gz\n",
      "../data/platyhelminthes_dataset_vfinal/hymenolepis_diminuta.PRJEB30942.WBPS18.protein.fa.gz\n",
      "../data/platyhelminthes_dataset_vfinal/hymenolepis_microstoma.PRJEB124.WBPS18.annotations.gff3.gz\n",
      "../data/platyhelminthes_dataset_vfinal/hymenolepis_microstoma.PRJEB124.WBPS18.canonical_geneset.gtf.gz\n",
      "../data/platyhelminthes_dataset_vfinal/hymenolepis_microstoma.PRJEB124.WBPS18.protein.fa.gz\n",
      "../data/platyhelminthes_dataset_vfinal/macrostomum_lignano.PRJNA371498.WBPS18.annotations.gff3.gz\n",
      "../data/platyhelminthes_dataset_vfinal/macrostomum_lignano.PRJNA371498.WBPS18.canonical_geneset.gtf.gz\n",
      "../data/platyhelminthes_dataset_vfinal/macrostomum_lignano.PRJNA371498.WBPS18.protein.fa.gz\n",
      "../data/platyhelminthes_dataset_vfinal/mesocestoides_corti.PRJEB510.WBPS18.annotations.gff3.gz\n",
      "../data/platyhelminthes_dataset_vfinal/mesocestoides_corti.PRJEB510.WBPS18.canonical_geneset.gtf.gz\n",
      "../data/platyhelminthes_dataset_vfinal/mesocestoides_corti.PRJEB510.WBPS18.protein.fa.gz\n",
      "../data/platyhelminthes_dataset_vfinal/opisthorchis_viverrini.PRJNA222628.WBPS18.annotations.gff3.gz\n",
      "../data/platyhelminthes_dataset_vfinal/opisthorchis_viverrini.PRJNA222628.WBPS18.canonical_geneset.gtf.gz\n",
      "../data/platyhelminthes_dataset_vfinal/opisthorchis_viverrini.PRJNA222628.WBPS18.protein.fa.gz\n",
      "../data/platyhelminthes_dataset_vfinal/schistosoma_curassoni.PRJEB44434.WBPS18.annotations.gff3.gz\n",
      "../data/platyhelminthes_dataset_vfinal/schistosoma_curassoni.PRJEB44434.WBPS18.canonical_geneset.gtf.gz\n",
      "../data/platyhelminthes_dataset_vfinal/schistosoma_curassoni.PRJEB44434.WBPS18.protein.fa.gz\n",
      "../data/platyhelminthes_dataset_vfinal/schistosoma_haematobium.PRJNA78265.WBPS18.annotations.gff3.gz\n",
      "../data/platyhelminthes_dataset_vfinal/schistosoma_haematobium.PRJNA78265.WBPS18.canonical_geneset.gtf.gz\n",
      "../data/platyhelminthes_dataset_vfinal/schistosoma_haematobium.PRJNA78265.WBPS18.protein.fa.gz\n",
      "../data/platyhelminthes_dataset_vfinal/schistosoma_japonicum.PRJNA520774.WBPS18.annotations.gff3.gz\n",
      "../data/platyhelminthes_dataset_vfinal/schistosoma_japonicum.PRJNA520774.WBPS18.canonical_geneset.gtf.gz\n",
      "../data/platyhelminthes_dataset_vfinal/schistosoma_japonicum.PRJNA520774.WBPS18.protein.fa.gz\n",
      "../data/platyhelminthes_dataset_vfinal/schistosoma_mansoni.PRJEA36577.WBPS18.annotations.gff3.gz\n",
      "../data/platyhelminthes_dataset_vfinal/schistosoma_mansoni.PRJEA36577.WBPS18.canonical_geneset.gtf.gz\n",
      "../data/platyhelminthes_dataset_vfinal/schistosoma_mansoni.PRJEA36577.WBPS18.protein.fa.gz\n",
      "../data/platyhelminthes_dataset_vfinal/schistosoma_margrebowiei.PRJEB44434.WBPS18.annotations.gff3.gz\n",
      "../data/platyhelminthes_dataset_vfinal/schistosoma_margrebowiei.PRJEB44434.WBPS18.canonical_geneset.gtf.gz\n",
      "../data/platyhelminthes_dataset_vfinal/schistosoma_margrebowiei.PRJEB44434.WBPS18.protein.fa.gz\n",
      "../data/platyhelminthes_dataset_vfinal/schistosoma_mattheei.PRJEB44434.WBPS18.annotations.gff3.gz\n",
      "../data/platyhelminthes_dataset_vfinal/schistosoma_mattheei.PRJEB44434.WBPS18.canonical_geneset.gtf.gz\n",
      "../data/platyhelminthes_dataset_vfinal/schistosoma_mattheei.PRJEB44434.WBPS18.protein.fa.gz\n",
      "../data/platyhelminthes_dataset_vfinal/schmidtea_mediterranea.PRJNA12585.WBPS18.annotations.gff3.gz\n",
      "../data/platyhelminthes_dataset_vfinal/schmidtea_mediterranea.PRJNA12585.WBPS18.canonical_geneset.gtf.gz\n",
      "../data/platyhelminthes_dataset_vfinal/schmidtea_mediterranea.PRJNA12585.WBPS18.protein.fa.gz\n",
      "../data/platyhelminthes_dataset_vfinal/taenia_asiatica.PRJEB532.WBPS18.annotations.gff3.gz\n",
      "../data/platyhelminthes_dataset_vfinal/taenia_asiatica.PRJEB532.WBPS18.canonical_geneset.gtf.gz\n",
      "../data/platyhelminthes_dataset_vfinal/taenia_asiatica.PRJEB532.WBPS18.protein.fa.gz\n",
      "../data/platyhelminthes_dataset_vfinal/taenia_asiatica.PRJNA299871.WBPS18.annotations.gff3.gz\n",
      "../data/platyhelminthes_dataset_vfinal/taenia_asiatica.PRJNA299871.WBPS18.canonical_geneset.gtf.gz\n",
      "../data/platyhelminthes_dataset_vfinal/taenia_asiatica.PRJNA299871.WBPS18.protein.fa.gz\n",
      "../data/platyhelminthes_dataset_vfinal/taenia_saginata.PRJNA71493.WBPS18.annotations.gff3.gz\n",
      "../data/platyhelminthes_dataset_vfinal/taenia_saginata.PRJNA71493.WBPS18.canonical_geneset.gtf.gz\n",
      "../data/platyhelminthes_dataset_vfinal/taenia_saginata.PRJNA71493.WBPS18.protein.fa.gz\n",
      "../data/platyhelminthes_dataset_vfinal/taenia_solium.PRJNA170813.WBPS18.annotations.gff3.gz\n",
      "../data/platyhelminthes_dataset_vfinal/taenia_solium.PRJNA170813.WBPS18.canonical_geneset.gtf.gz\n",
      "../data/platyhelminthes_dataset_vfinal/taenia_solium.PRJNA170813.WBPS18.protein.fa.gz\n",
      "../data/platyhelminthes_dataset_vfinal/trichobilharzia_regenti.PRJEB44434.WBPS18.annotations.gff3.gz\n",
      "../data/platyhelminthes_dataset_vfinal/trichobilharzia_regenti.PRJEB44434.WBPS18.canonical_geneset.gtf.gz\n",
      "../data/platyhelminthes_dataset_vfinal/trichobilharzia_regenti.PRJEB44434.WBPS18.protein.fa.gz\n"
     ]
    }
   ],
   "source": [
    "%%bash\n",
    "\n",
    "ls ../data/platyhelminthes_dataset_vfinal/*"
   ]
  },
  {
   "cell_type": "code",
   "execution_count": null,
   "id": "3b8153e2-a2ef-4d85-af71-a2797403c428",
   "metadata": {},
   "outputs": [],
   "source": []
  },
  {
   "cell_type": "code",
   "execution_count": 38,
   "id": "a2dc7de9-21ee-4164-adfb-0b4463cfcfb4",
   "metadata": {
    "scrolled": true
   },
   "outputs": [
    {
     "name": "stderr",
     "output_type": "stream",
     "text": [
      "  0%|                                                                                                                                  | 0/24 [00:00<?, ?it/s]R[write to console]: Extracting longest isoform from hymenolepis_microstoma.PRJEB124.WBPS18.protein.fa.gz ...\n",
      "\n",
      "R[write to console]: Importing proteome file hymenolepis_microstoma.PRJEB124.WBPS18.protein.fa.gz ...\n",
      "\n",
      "R[write to console]: Importing '../data/platyhelminthes_dataset_vfinal/hymenolepis_microstoma.PRJEB124.WBPS18.canonical_geneset.gtf.gz' ...\n",
      "\n",
      "R[write to console]: Importing gtf file hymenolepis_microstoma.PRJEB124.WBPS18.canonical_geneset.gtf.gz ...\n",
      "\n",
      "R[write to console]: Filter for gene_biotype == 'protein_coding' AND type == 'transcript' ...\n",
      "\n",
      "R[write to console]: After filtering, the gtf file includes 11429 rows.\n",
      "\n",
      "R[write to console]: Join transcript_ids from FASTA header with transcript_ids from GTF annotation file ...\n",
      "\n",
      "R[write to console]: The joined file contains 11429 rows.\n",
      "\n",
      "R[write to console]: Removing rows with NA's in columns 'transcript_id', 'width', and 'gene_id'\n",
      "\n",
      "R[write to console]: After NA removal the file contains 11429 rows.\n",
      "\n",
      "R[write to console]: Retrieving longest isoforms ...\n",
      "\n"
     ]
    },
    {
     "name": "stdout",
     "output_type": "stream",
     "text": [
      "|===================================================== |100% ~0 s remainingg                                                                                                                                                                                                                                                                                                                                                                                                                                                                                                                                                                                                                                                                                                                                                                                                                                                                                                                                                                                                                                                                                                                                                                                                                                                                                                                                                                                                                                                                                                                                                                                                                                                                                                                                                                                                                                                                                                                                                             "
     ]
    },
    {
     "name": "stderr",
     "output_type": "stream",
     "text": [
      "R[write to console]: \n",
      "\n",
      "\n",
      "R[write to console]: Writing 10139 unique longest peptide sequences (from initially 11429 isoforms) to new fasta file ../data/platyhelminthes_dataset_vfinal/hymenolepis_microstoma.PRJEB124.WBPS18.protein.longest_isoforms.faa ...\n",
      "\n",
      "R[write to console]: Retrieval finished successfully.\n",
      "\n",
      "  4%|█████                                                                                                                     | 1/24 [00:27<10:23, 27.10s/it]R[write to console]: Extracting longest isoform from schistosoma_margrebowiei.PRJEB44434.WBPS18.protein.fa.gz ...\n",
      "\n",
      "R[write to console]: Importing proteome file schistosoma_margrebowiei.PRJEB44434.WBPS18.protein.fa.gz ...\n",
      "\n",
      "R[write to console]: Importing '../data/platyhelminthes_dataset_vfinal/schistosoma_margrebowiei.PRJEB44434.WBPS18.canonical_geneset.gtf.gz' ...\n",
      "\n",
      "R[write to console]: Importing gtf file schistosoma_margrebowiei.PRJEB44434.WBPS18.canonical_geneset.gtf.gz ...\n",
      "\n",
      "R[write to console]: Filter for gene_biotype == 'protein_coding' AND type == 'transcript' ...\n",
      "\n",
      "R[write to console]: After filtering, the gtf file includes 19527 rows.\n",
      "\n",
      "R[write to console]: Join transcript_ids from FASTA header with transcript_ids from GTF annotation file ...\n",
      "\n",
      "R[write to console]: The joined file contains 19527 rows.\n",
      "\n",
      "R[write to console]: Removing rows with NA's in columns 'transcript_id', 'width', and 'gene_id'\n",
      "\n",
      "R[write to console]: After NA removal the file contains 19527 rows.\n",
      "\n",
      "R[write to console]: Retrieving longest isoforms ...\n",
      "\n"
     ]
    },
    {
     "name": "stdout",
     "output_type": "stream",
     "text": [
      "|===================================================== |100% ~0 s remainingg                                                                                                                                                                                                                                                                                                                                                                                                                                                                                                                                                                                                                                                                                                                                                                                                                                                                                                                                                                                                                                                                                                                                                                                                                                                                                                                                                                                                                                                                                                                                                                                                                                                                                                                                                              "
     ]
    },
    {
     "name": "stderr",
     "output_type": "stream",
     "text": [
      "R[write to console]: \n",
      "\n",
      "\n",
      "R[write to console]: Writing 9780 unique longest peptide sequences (from initially 19527 isoforms) to new fasta file ../data/platyhelminthes_dataset_vfinal/schistosoma_margrebowiei.PRJEB44434.WBPS18.protein.longest_isoforms.faa ...\n",
      "\n",
      "R[write to console]: Retrieval finished successfully.\n",
      "\n",
      "  8%|██████████▏                                                                                                               | 2/24 [00:56<10:26, 28.46s/it]R[write to console]: Extracting longest isoform from taenia_solium.PRJNA170813.WBPS18.protein.fa.gz ...\n",
      "\n",
      "R[write to console]: Importing proteome file taenia_solium.PRJNA170813.WBPS18.protein.fa.gz ...\n",
      "\n",
      "R[write to console]: Importing '../data/platyhelminthes_dataset_vfinal/taenia_solium.PRJNA170813.WBPS18.canonical_geneset.gtf.gz' ...\n",
      "\n",
      "R[write to console]: Importing gtf file taenia_solium.PRJNA170813.WBPS18.canonical_geneset.gtf.gz ...\n",
      "\n",
      "R[write to console]: Filter for gene_biotype == 'protein_coding' AND type == 'transcript' ...\n",
      "\n",
      "R[write to console]: After filtering, the gtf file includes 12356 rows.\n",
      "\n",
      "R[write to console]: Join transcript_ids from FASTA header with transcript_ids from GTF annotation file ...\n",
      "\n",
      "R[write to console]: The joined file contains 12356 rows.\n",
      "\n",
      "R[write to console]: Removing rows with NA's in columns 'transcript_id', 'width', and 'gene_id'\n",
      "\n",
      "R[write to console]: After NA removal the file contains 12356 rows.\n",
      "\n",
      "R[write to console]: Retrieving longest isoforms ...\n",
      "\n"
     ]
    },
    {
     "name": "stdout",
     "output_type": "stream",
     "text": [
      "|======================================================|100% ~0 s remainingg                                                                                                                                                                                                                                                                                                                                                                                                                                                                                                                                                                                                                                                                                                                                                                                                                                                                                                                                                                                                                                                                                                                                                                                                                                                                                                                                                                                                                                                                                                                                                                                                                                                                                                                                                                                                                                                                                                                                                                                                                                                                                                                                                       "
     ]
    },
    {
     "name": "stderr",
     "output_type": "stream",
     "text": [
      "R[write to console]: \n",
      "\n",
      "\n",
      "R[write to console]: Writing 12356 unique longest peptide sequences (from initially 12356 isoforms) to new fasta file ../data/platyhelminthes_dataset_vfinal/taenia_solium.PRJNA170813.WBPS18.protein.longest_isoforms.faa ...\n",
      "\n",
      "R[write to console]: Retrieval finished successfully.\n",
      "\n",
      " 12%|███████████████▎                                                                                                          | 3/24 [01:25<09:59, 28.52s/it]R[write to console]: Extracting longest isoform from echinococcus_granulosus.PRJNA182977.WBPS18.protein.fa.gz ...\n",
      "\n",
      "R[write to console]: Importing proteome file echinococcus_granulosus.PRJNA182977.WBPS18.protein.fa.gz ...\n",
      "\n",
      "R[write to console]: Importing '../data/platyhelminthes_dataset_vfinal/echinococcus_granulosus.PRJNA182977.WBPS18.canonical_geneset.gtf.gz' ...\n",
      "\n",
      "R[write to console]: Importing gtf file echinococcus_granulosus.PRJNA182977.WBPS18.canonical_geneset.gtf.gz ...\n",
      "\n",
      "R[write to console]: Filter for gene_biotype == 'protein_coding' AND type == 'transcript' ...\n",
      "\n",
      "R[write to console]: After filtering, the gtf file includes 11319 rows.\n",
      "\n",
      "R[write to console]: Join transcript_ids from FASTA header with transcript_ids from GTF annotation file ...\n",
      "\n",
      "R[write to console]: The joined file contains 11319 rows.\n",
      "\n",
      "R[write to console]: Removing rows with NA's in columns 'transcript_id', 'width', and 'gene_id'\n",
      "\n",
      "R[write to console]: After NA removal the file contains 11319 rows.\n",
      "\n",
      "R[write to console]: Retrieving longest isoforms ...\n",
      "\n"
     ]
    },
    {
     "name": "stdout",
     "output_type": "stream",
     "text": [
      "|===================================================== |100% ~0 s remainingg                                                                                                                                                                                                                                                                                                                                                                                                                                                                                                                                                                                                                                                                                                                                                                                                                                                                                                                                                                                                                                                                                                                                                                                                                                                                                                                                                                                                                                                                                                                                                                                                                                                                                                                                                                                                                                                       "
     ]
    },
    {
     "name": "stderr",
     "output_type": "stream",
     "text": [
      "R[write to console]: \n",
      "\n",
      "\n",
      "R[write to console]: Writing 11319 unique longest peptide sequences (from initially 11319 isoforms) to new fasta file ../data/platyhelminthes_dataset_vfinal/echinococcus_granulosus.PRJNA182977.WBPS18.protein.longest_isoforms.faa ...\n",
      "\n",
      "R[write to console]: Retrieval finished successfully.\n",
      "\n",
      " 17%|████████████████████▎                                                                                                     | 4/24 [01:50<09:06, 27.34s/it]R[write to console]: Extracting longest isoform from taenia_asiatica.PRJNA299871.WBPS18.protein.fa.gz ...\n",
      "\n",
      "R[write to console]: Importing proteome file taenia_asiatica.PRJNA299871.WBPS18.protein.fa.gz ...\n",
      "\n",
      "R[write to console]: Importing '../data/platyhelminthes_dataset_vfinal/taenia_asiatica.PRJNA299871.WBPS18.canonical_geneset.gtf.gz' ...\n",
      "\n",
      "R[write to console]: Importing gtf file taenia_asiatica.PRJNA299871.WBPS18.canonical_geneset.gtf.gz ...\n",
      "\n",
      "R[write to console]: Filter for gene_biotype == 'protein_coding' AND type == 'transcript' ...\n",
      "\n",
      "R[write to console]: After filtering, the gtf file includes 13322 rows.\n",
      "\n",
      "R[write to console]: Join transcript_ids from FASTA header with transcript_ids from GTF annotation file ...\n",
      "\n",
      "R[write to console]: The joined file contains 13322 rows.\n",
      "\n",
      "R[write to console]: Removing rows with NA's in columns 'transcript_id', 'width', and 'gene_id'\n",
      "\n",
      "R[write to console]: After NA removal the file contains 13322 rows.\n",
      "\n",
      "R[write to console]: Retrieving longest isoforms ...\n",
      "\n"
     ]
    },
    {
     "name": "stdout",
     "output_type": "stream",
     "text": [
      "|===================================================== |100% ~0 s remainingg                                                                                                                                                                                                                                                                                                                                                                                                                                                                                                                                                                                                                                                                                                                                                                                                                                                                                                                                                                                                                                                                                                                                                                                                                                                                                                                                                                                                                                                                                                                                                                                                                                                                                                                                                                                                                                                                                                                                                                                                                                                                                                                                                                                                                                             "
     ]
    },
    {
     "name": "stderr",
     "output_type": "stream",
     "text": [
      "R[write to console]: \n",
      "\n",
      "\n",
      "R[write to console]: Writing 13322 unique longest peptide sequences (from initially 13322 isoforms) to new fasta file ../data/platyhelminthes_dataset_vfinal/taenia_asiatica.PRJNA299871.WBPS18.protein.longest_isoforms.faa ...\n",
      "\n",
      "R[write to console]: Retrieval finished successfully.\n",
      "\n",
      " 21%|█████████████████████████▍                                                                                                | 5/24 [02:21<09:05, 28.70s/it]R[write to console]: Extracting longest isoform from echinococcus_canadensis.PRJEB8992.WBPS18.protein.fa.gz ...\n",
      "\n",
      "R[write to console]: Importing proteome file echinococcus_canadensis.PRJEB8992.WBPS18.protein.fa.gz ...\n",
      "\n",
      "R[write to console]: Importing '../data/platyhelminthes_dataset_vfinal/echinococcus_canadensis.PRJEB8992.WBPS18.canonical_geneset.gtf.gz' ...\n",
      "\n",
      "R[write to console]: Importing gtf file echinococcus_canadensis.PRJEB8992.WBPS18.canonical_geneset.gtf.gz ...\n",
      "\n",
      "R[write to console]: Filter for gene_biotype == 'protein_coding' AND type == 'transcript' ...\n",
      "\n",
      "R[write to console]: After filtering, the gtf file includes 11425 rows.\n",
      "\n",
      "R[write to console]: Join transcript_ids from FASTA header with transcript_ids from GTF annotation file ...\n",
      "\n",
      "R[write to console]: The joined file contains 11425 rows.\n",
      "\n",
      "R[write to console]: Removing rows with NA's in columns 'transcript_id', 'width', and 'gene_id'\n",
      "\n",
      "R[write to console]: After NA removal the file contains 11425 rows.\n",
      "\n",
      "R[write to console]: Retrieving longest isoforms ...\n",
      "\n"
     ]
    },
    {
     "name": "stdout",
     "output_type": "stream",
     "text": [
      "|===================================================== |100% ~0 s remainingg                                                                                                                                                                                                                                                                                                                                                                                                                                                                                                                                                                                                                                                                                                                                                                                                                                                                                                                                                                                                                                                                                                                                                                                                                                                                                                                                                                                                                                                                                                                                                                                                                                                                                                                                                                                                                                                                                                                 "
     ]
    },
    {
     "name": "stderr",
     "output_type": "stream",
     "text": [
      "R[write to console]: \n",
      "\n",
      "\n",
      "R[write to console]: Writing 11425 unique longest peptide sequences (from initially 11425 isoforms) to new fasta file ../data/platyhelminthes_dataset_vfinal/echinococcus_canadensis.PRJEB8992.WBPS18.protein.longest_isoforms.faa ...\n",
      "\n",
      "R[write to console]: Retrieval finished successfully.\n",
      "\n",
      " 25%|██████████████████████████████▌                                                                                           | 6/24 [02:48<08:26, 28.14s/it]R[write to console]: Extracting longest isoform from schmidtea_mediterranea.PRJNA12585.WBPS18.protein.fa.gz ...\n",
      "\n",
      "R[write to console]: Importing proteome file schmidtea_mediterranea.PRJNA12585.WBPS18.protein.fa.gz ...\n",
      "\n",
      "R[write to console]: Importing '../data/platyhelminthes_dataset_vfinal/schmidtea_mediterranea.PRJNA12585.WBPS18.canonical_geneset.gtf.gz' ...\n",
      "\n",
      "R[write to console]: Importing gtf file schmidtea_mediterranea.PRJNA12585.WBPS18.canonical_geneset.gtf.gz ...\n",
      "\n",
      "R[write to console]: Filter for gene_biotype == 'protein_coding' AND type == 'transcript' ...\n",
      "\n",
      "R[write to console]: After filtering, the gtf file includes 29850 rows.\n",
      "\n",
      "R[write to console]: Join transcript_ids from FASTA header with transcript_ids from GTF annotation file ...\n",
      "\n",
      "R[write to console]: The joined file contains 29850 rows.\n",
      "\n",
      "R[write to console]: Removing rows with NA's in columns 'transcript_id', 'width', and 'gene_id'\n",
      "\n",
      "R[write to console]: After NA removal the file contains 29850 rows.\n",
      "\n",
      "R[write to console]: Retrieving longest isoforms ...\n",
      "\n"
     ]
    },
    {
     "name": "stdout",
     "output_type": "stream",
     "text": [
      "|===================================================== |100% ~0 s remainingg                                                                                                                                                                                                                                                                                                                                                                                                                                                                                                                                                                                                                                                                                                                                                                                                                                                                                                                                                                                                                                                                                                                                                                                                                                                                                                                                                                                                                                                                                                                                                                                                                                                                                                                                                                                                                                                                                                                                                                                                                                                                                                                                                                                                                                                                                                                                                                                                                                                                                                                                                                                                                                                                                                                                                                                                                                                                                                                                                                                                                                                                                                                                                                                                                                                                                                                                                                                                                                                                                                                                                                                                                                                                                                                                                                                                                                                                                                                                                                                                                                                                                                                                                                                                                                                                                                                                                                                                                                                                                                                                                                                                                                                                                                                                                                                                                                                                                                                                                                                                                                                                                                                                     "
     ]
    },
    {
     "name": "stderr",
     "output_type": "stream",
     "text": [
      "R[write to console]: \n",
      "\n",
      "\n",
      "R[write to console]: Writing 29850 unique longest peptide sequences (from initially 29850 isoforms) to new fasta file ../data/platyhelminthes_dataset_vfinal/schmidtea_mediterranea.PRJNA12585.WBPS18.protein.longest_isoforms.faa ...\n",
      "\n",
      "R[write to console]: Retrieval finished successfully.\n",
      "\n",
      " 29%|███████████████████████████████████▌                                                                                      | 7/24 [03:58<11:47, 41.63s/it]R[write to console]: Extracting longest isoform from schistosoma_mansoni.PRJEA36577.WBPS18.protein.fa.gz ...\n",
      "\n",
      "R[write to console]: Importing proteome file schistosoma_mansoni.PRJEA36577.WBPS18.protein.fa.gz ...\n",
      "\n",
      "R[write to console]: Importing '../data/platyhelminthes_dataset_vfinal/schistosoma_mansoni.PRJEA36577.WBPS18.canonical_geneset.gtf.gz' ...\n",
      "\n",
      "R[write to console]: Importing gtf file schistosoma_mansoni.PRJEA36577.WBPS18.canonical_geneset.gtf.gz ...\n",
      "\n",
      "R[write to console]: Filter for gene_biotype == 'protein_coding' AND type == 'transcript' ...\n",
      "\n",
      "R[write to console]: After filtering, the gtf file includes 10935 rows.\n",
      "\n",
      "R[write to console]: Join transcript_ids from FASTA header with transcript_ids from GTF annotation file ...\n",
      "\n",
      "R[write to console]: The joined file contains 10935 rows.\n",
      "\n",
      "R[write to console]: Removing rows with NA's in columns 'transcript_id', 'width', and 'gene_id'\n",
      "\n",
      "R[write to console]: After NA removal the file contains 10935 rows.\n",
      "\n",
      "R[write to console]: Retrieving longest isoforms ...\n",
      "\n"
     ]
    },
    {
     "name": "stdout",
     "output_type": "stream",
     "text": [
      "|===================================================== |100% ~0 s remainingg                                                                                                                                                                                                                                                                                                                                                                                                                                                                                                                                                                                                                                                                                                                                                                                                                                                                                                                                                                                                                                                                                                                                                                                                                                                                                                                                                                                                                                                                                                                                                                                                                                                                                                                           "
     ]
    },
    {
     "name": "stderr",
     "output_type": "stream",
     "text": [
      "R[write to console]: \n",
      "\n",
      "\n",
      "R[write to console]: Writing 9896 unique longest peptide sequences (from initially 10935 isoforms) to new fasta file ../data/platyhelminthes_dataset_vfinal/schistosoma_mansoni.PRJEA36577.WBPS18.protein.longest_isoforms.faa ...\n",
      "\n",
      "R[write to console]: Retrieval finished successfully.\n",
      "\n",
      " 33%|████████████████████████████████████████▋                                                                                 | 8/24 [04:23<09:40, 36.30s/it]R[write to console]: Extracting longest isoform from macrostomum_lignano.PRJNA371498.WBPS18.protein.fa.gz ...\n",
      "\n",
      "R[write to console]: Importing proteome file macrostomum_lignano.PRJNA371498.WBPS18.protein.fa.gz ...\n",
      "\n",
      "R[write to console]: Importing '../data/platyhelminthes_dataset_vfinal/macrostomum_lignano.PRJNA371498.WBPS18.canonical_geneset.gtf.gz' ...\n",
      "\n",
      "R[write to console]: Importing gtf file macrostomum_lignano.PRJNA371498.WBPS18.canonical_geneset.gtf.gz ...\n",
      "\n",
      "R[write to console]: Filter for gene_biotype == 'protein_coding' AND type == 'transcript' ...\n",
      "\n",
      "R[write to console]: After filtering, the gtf file includes 49013 rows.\n",
      "\n",
      "R[write to console]: Join transcript_ids from FASTA header with transcript_ids from GTF annotation file ...\n",
      "\n",
      "R[write to console]: The joined file contains 49013 rows.\n",
      "\n",
      "R[write to console]: Removing rows with NA's in columns 'transcript_id', 'width', and 'gene_id'\n",
      "\n",
      "R[write to console]: After NA removal the file contains 49013 rows.\n",
      "\n",
      "R[write to console]: Retrieving longest isoforms ...\n",
      "\n"
     ]
    },
    {
     "name": "stdout",
     "output_type": "stream",
     "text": [
      "|===================================================== |100% ~0 s remainingg                                                                                                                                                                                                                                                                                                                                                                                                                                                                                                                                                                                                                                                                                                                                                                                                                                                                                                                                                                                                                                                                                                                                                                                                                                                                                                                                                                                                                                                                                                                                                                                                                                                                                                                                                                                                                                                                                                                                                                                                                                                                                                                                                                                                                                                                                                                                                                                                                                                                                                                                                                                                                                                                                                                                                                                                                                                                                                                                                                                                                                                                                                                                                                                                                                                                                                                                                                                                                                                                                                                                                                                                                                                                                                                                                                                                                                                                                                                                                                                                                                                                                                                                                                                                                                                                                                                                                                                                                                                                                                                                                                                                                                                                                                                                                                                                                                                                                                                                                                                                                                                                                                                                                                                                                                                                                                                                                                                                                                                                                                                                                                                                                                                                                                                                                                                                                                                                                                                                                                                                                                                                                                                                                                                                                                                                                                                                                                                                                                                                                                                                                                                                                                                                                                                                                                                                                                                                                                                                                                                                                                                                                                                                                                                                                                                                                                                                                                                                                                                                                                                                                                                                                                                                                                                                                                                                                                                                                                                                                                                                                                                                                                                                                                                                                                                                                                                                                                                                                                                                                                                                                                                                                                                                                                                                                                                                                                                                                                                                                                                                                                                                                                                                                                                                                                                                                                                                                                                                                                                                                                                                                                                                                                                                                                                                                                                                                                                                                                                                                                                                                                                  "
     ]
    },
    {
     "name": "stderr",
     "output_type": "stream",
     "text": [
      "R[write to console]: \n",
      "\n",
      "\n",
      "R[write to console]: Writing 49013 unique longest peptide sequences (from initially 49013 isoforms) to new fasta file ../data/platyhelminthes_dataset_vfinal/macrostomum_lignano.PRJNA371498.WBPS18.protein.longest_isoforms.faa ...\n",
      "\n",
      "R[write to console]: Retrieval finished successfully.\n",
      "\n",
      " 38%|█████████████████████████████████████████████▊                                                                            | 9/24 [06:31<16:14, 64.94s/it]R[write to console]: Extracting longest isoform from fasciola_hepatica.PRJEB25283.WBPS18.protein.fa.gz ...\n",
      "\n",
      "R[write to console]: Importing proteome file fasciola_hepatica.PRJEB25283.WBPS18.protein.fa.gz ...\n",
      "\n",
      "R[write to console]: Importing '../data/platyhelminthes_dataset_vfinal/fasciola_hepatica.PRJEB25283.WBPS18.canonical_geneset.gtf.gz' ...\n",
      "\n",
      "R[write to console]: Importing gtf file fasciola_hepatica.PRJEB25283.WBPS18.canonical_geneset.gtf.gz ...\n",
      "\n",
      "R[write to console]: Filter for gene_biotype == 'protein_coding' AND type == 'transcript' ...\n",
      "\n",
      "R[write to console]: After filtering, the gtf file includes 9731 rows.\n",
      "\n",
      "R[write to console]: Join transcript_ids from FASTA header with transcript_ids from GTF annotation file ...\n",
      "\n",
      "R[write to console]: The joined file contains 9731 rows.\n",
      "\n",
      "R[write to console]: Removing rows with NA's in columns 'transcript_id', 'width', and 'gene_id'\n",
      "\n",
      "R[write to console]: After NA removal the file contains 9731 rows.\n",
      "\n",
      "R[write to console]: Retrieving longest isoforms ...\n",
      "\n"
     ]
    },
    {
     "name": "stdout",
     "output_type": "stream",
     "text": [
      "|===================================================== |100% ~0 s remainingg                                                                                                                                                                                                                                                                                                                                                                                                                                                                                                                                                                                                                                                                                                                                                                                                                                                                                                                                                                                                                                                                                                                                                                                                                                                                                                                                                                                                                                                                                                                                                                                                                                                                                                                                                                          "
     ]
    },
    {
     "name": "stderr",
     "output_type": "stream",
     "text": [
      "R[write to console]: \n",
      "\n",
      "\n",
      "R[write to console]: Writing 9731 unique longest peptide sequences (from initially 9731 isoforms) to new fasta file ../data/platyhelminthes_dataset_vfinal/fasciola_hepatica.PRJEB25283.WBPS18.protein.longest_isoforms.faa ...\n",
      "\n",
      "R[write to console]: Retrieval finished successfully.\n",
      "\n",
      " 42%|██████████████████████████████████████████████████▍                                                                      | 10/24 [06:58<12:26, 53.35s/it]R[write to console]: Extracting longest isoform from schistosoma_mattheei.PRJEB44434.WBPS18.protein.fa.gz ...\n",
      "\n",
      "R[write to console]: Importing proteome file schistosoma_mattheei.PRJEB44434.WBPS18.protein.fa.gz ...\n",
      "\n",
      "R[write to console]: Importing '../data/platyhelminthes_dataset_vfinal/schistosoma_mattheei.PRJEB44434.WBPS18.canonical_geneset.gtf.gz' ...\n",
      "\n",
      "R[write to console]: Importing gtf file schistosoma_mattheei.PRJEB44434.WBPS18.canonical_geneset.gtf.gz ...\n",
      "\n",
      "R[write to console]: Filter for gene_biotype == 'protein_coding' AND type == 'transcript' ...\n",
      "\n",
      "R[write to console]: After filtering, the gtf file includes 17083 rows.\n",
      "\n",
      "R[write to console]: Join transcript_ids from FASTA header with transcript_ids from GTF annotation file ...\n",
      "\n",
      "R[write to console]: The joined file contains 17083 rows.\n",
      "\n",
      "R[write to console]: Removing rows with NA's in columns 'transcript_id', 'width', and 'gene_id'\n",
      "\n",
      "R[write to console]: After NA removal the file contains 17083 rows.\n",
      "\n",
      "R[write to console]: Retrieving longest isoforms ...\n",
      "\n"
     ]
    },
    {
     "name": "stdout",
     "output_type": "stream",
     "text": [
      "|===================================================== |100% ~0 s remainingg                                                                                                                                                                                                                                                                                                                                                                                                                                                                                                                                                                                                                                                                                                                                                                                                                                                                                                                                                                                                                                                                                                                                                                                                                                                                                                                                                                                                                                                                                                                                                                                                                                                                                                                                                                                                                                                                               "
     ]
    },
    {
     "name": "stderr",
     "output_type": "stream",
     "text": [
      "R[write to console]: \n",
      "\n",
      "\n",
      "R[write to console]: Writing 10770 unique longest peptide sequences (from initially 17083 isoforms) to new fasta file ../data/platyhelminthes_dataset_vfinal/schistosoma_mattheei.PRJEB44434.WBPS18.protein.longest_isoforms.faa ...\n",
      "\n",
      "R[write to console]: Retrieval finished successfully.\n",
      "\n",
      " 46%|███████████████████████████████████████████████████████▍                                                                 | 11/24 [07:27<09:55, 45.84s/it]R[write to console]: Extracting longest isoform from taenia_asiatica.PRJEB532.WBPS18.protein.fa.gz ...\n",
      "\n",
      "R[write to console]: Importing proteome file taenia_asiatica.PRJEB532.WBPS18.protein.fa.gz ...\n",
      "\n",
      "R[write to console]: Importing '../data/platyhelminthes_dataset_vfinal/taenia_asiatica.PRJEB532.WBPS18.canonical_geneset.gtf.gz' ...\n",
      "\n",
      "R[write to console]: Importing gtf file taenia_asiatica.PRJEB532.WBPS18.canonical_geneset.gtf.gz ...\n",
      "\n",
      "R[write to console]: Filter for gene_biotype == 'protein_coding' AND type == 'transcript' ...\n",
      "\n",
      "R[write to console]: After filtering, the gtf file includes 10331 rows.\n",
      "\n",
      "R[write to console]: Join transcript_ids from FASTA header with transcript_ids from GTF annotation file ...\n",
      "\n",
      "R[write to console]: The joined file contains 10331 rows.\n",
      "\n",
      "R[write to console]: Removing rows with NA's in columns 'transcript_id', 'width', and 'gene_id'\n",
      "\n",
      "R[write to console]: After NA removal the file contains 10331 rows.\n",
      "\n",
      "R[write to console]: Retrieving longest isoforms ...\n",
      "\n"
     ]
    },
    {
     "name": "stdout",
     "output_type": "stream",
     "text": [
      "|======================================================|100% ~0 s remainingg                                                                                                                                                                                                                                                                                                                                                                                                                                                                                                                                                                                                                                                                                                                                                                                                                                                                                                                                                                                                                                                                                                                                                                                                                                                                                                                                                                                                                                                                                                                                                                                                                                                                                                                                                                                                                                                             "
     ]
    },
    {
     "name": "stderr",
     "output_type": "stream",
     "text": [
      "R[write to console]: \n",
      "\n",
      "\n",
      "R[write to console]: Writing 10331 unique longest peptide sequences (from initially 10331 isoforms) to new fasta file ../data/platyhelminthes_dataset_vfinal/taenia_asiatica.PRJEB532.WBPS18.protein.longest_isoforms.faa ...\n",
      "\n",
      "R[write to console]: Retrieval finished successfully.\n",
      "\n",
      " 50%|████████████████████████████████████████████████████████████▌                                                            | 12/24 [07:54<08:01, 40.12s/it]R[write to console]: Extracting longest isoform from echinococcus_multilocularis.PRJEB122.WBPS18.protein.fa.gz ...\n",
      "\n",
      "R[write to console]: Importing proteome file echinococcus_multilocularis.PRJEB122.WBPS18.protein.fa.gz ...\n",
      "\n",
      "R[write to console]: Importing '../data/platyhelminthes_dataset_vfinal/echinococcus_multilocularis.PRJEB122.WBPS18.canonical_geneset.gtf.gz' ...\n",
      "\n",
      "R[write to console]: Importing gtf file echinococcus_multilocularis.PRJEB122.WBPS18.canonical_geneset.gtf.gz ...\n",
      "\n",
      "R[write to console]: Filter for gene_biotype == 'protein_coding' AND type == 'transcript' ...\n",
      "\n",
      "R[write to console]: After filtering, the gtf file includes 10669 rows.\n",
      "\n",
      "R[write to console]: Join transcript_ids from FASTA header with transcript_ids from GTF annotation file ...\n",
      "\n",
      "R[write to console]: The joined file contains 10669 rows.\n",
      "\n",
      "R[write to console]: Removing rows with NA's in columns 'transcript_id', 'width', and 'gene_id'\n",
      "\n",
      "R[write to console]: After NA removal the file contains 10669 rows.\n",
      "\n",
      "R[write to console]: Retrieving longest isoforms ...\n",
      "\n"
     ]
    },
    {
     "name": "stdout",
     "output_type": "stream",
     "text": [
      "|===================================================== |100% ~0 s remainingg                                                                                                                                                                                                                                                                                                                                                                                                                                                                                                                                                                                                                                                                                                                                                                                                                                                                                                                                                                                                                                                                                                                                                                                                                                                                                                                                                                                                                                                                                                                                                                                                                                                                                                                                                                                                                                                                                                                                                                                                                                                                                                                                                                                            "
     ]
    },
    {
     "name": "stderr",
     "output_type": "stream",
     "text": [
      "R[write to console]: \n",
      "\n",
      "\n",
      "R[write to console]: Writing 10663 unique longest peptide sequences (from initially 10669 isoforms) to new fasta file ../data/platyhelminthes_dataset_vfinal/echinococcus_multilocularis.PRJEB122.WBPS18.protein.longest_isoforms.faa ...\n",
      "\n",
      "R[write to console]: Retrieval finished successfully.\n",
      "\n",
      " 54%|█████████████████████████████████████████████████████████████████▌                                                       | 13/24 [08:26<06:54, 37.67s/it]R[write to console]: Extracting longest isoform from hymenolepis_diminuta.PRJEB30942.WBPS18.protein.fa.gz ...\n",
      "\n",
      "R[write to console]: Importing proteome file hymenolepis_diminuta.PRJEB30942.WBPS18.protein.fa.gz ...\n",
      "\n",
      "R[write to console]: Importing '../data/platyhelminthes_dataset_vfinal/hymenolepis_diminuta.PRJEB30942.WBPS18.canonical_geneset.gtf.gz' ...\n",
      "\n",
      "R[write to console]: Importing gtf file hymenolepis_diminuta.PRJEB30942.WBPS18.canonical_geneset.gtf.gz ...\n",
      "\n",
      "R[write to console]: Filter for gene_biotype == 'protein_coding' AND type == 'transcript' ...\n",
      "\n",
      "R[write to console]: After filtering, the gtf file includes 19306 rows.\n",
      "\n",
      "R[write to console]: Join transcript_ids from FASTA header with transcript_ids from GTF annotation file ...\n",
      "\n",
      "R[write to console]: The joined file contains 19306 rows.\n",
      "\n",
      "R[write to console]: Removing rows with NA's in columns 'transcript_id', 'width', and 'gene_id'\n",
      "\n",
      "R[write to console]: After NA removal the file contains 19306 rows.\n",
      "\n",
      "R[write to console]: Retrieving longest isoforms ...\n",
      "\n"
     ]
    },
    {
     "name": "stdout",
     "output_type": "stream",
     "text": [
      "|===================================================== |100% ~0 s remainingg                                                                                                                                                                                                                                                                                                                                                                                                                                                                                                                                                                                                                                                                                                                                                                                                                                                                                                                                                                                                                                                                                                                                                                                                                                                                                                                                                                                                                                                                                                                                                                                                                                                                                                                                                                                                                                                                                                                                                                                                                                                                                                                                                                                                                                                                                                                                                                                                                                                                                                                                                                                                                                                                                                                                                                                                                                                                                                            "
     ]
    },
    {
     "name": "stderr",
     "output_type": "stream",
     "text": [
      "R[write to console]: \n",
      "\n",
      "\n",
      "R[write to console]: Writing 15165 unique longest peptide sequences (from initially 19306 isoforms) to new fasta file ../data/platyhelminthes_dataset_vfinal/hymenolepis_diminuta.PRJEB30942.WBPS18.protein.longest_isoforms.faa ...\n",
      "\n",
      "R[write to console]: Retrieval finished successfully.\n",
      "\n",
      " 58%|██████████████████████████████████████████████████████████████████████▌                                                  | 14/24 [09:09<06:33, 39.33s/it]R[write to console]: Extracting longest isoform from taenia_saginata.PRJNA71493.WBPS18.protein.fa.gz ...\n",
      "\n",
      "R[write to console]: Importing proteome file taenia_saginata.PRJNA71493.WBPS18.protein.fa.gz ...\n",
      "\n",
      "R[write to console]: Importing '../data/platyhelminthes_dataset_vfinal/taenia_saginata.PRJNA71493.WBPS18.canonical_geneset.gtf.gz' ...\n",
      "\n",
      "R[write to console]: Importing gtf file taenia_saginata.PRJNA71493.WBPS18.canonical_geneset.gtf.gz ...\n",
      "\n",
      "R[write to console]: Filter for gene_biotype == 'protein_coding' AND type == 'transcript' ...\n",
      "\n",
      "R[write to console]: After filtering, the gtf file includes 13160 rows.\n",
      "\n",
      "R[write to console]: Join transcript_ids from FASTA header with transcript_ids from GTF annotation file ...\n",
      "\n",
      "R[write to console]: The joined file contains 13160 rows.\n",
      "\n",
      "R[write to console]: Removing rows with NA's in columns 'transcript_id', 'width', and 'gene_id'\n",
      "\n",
      "R[write to console]: After NA removal the file contains 13160 rows.\n",
      "\n",
      "R[write to console]: Retrieving longest isoforms ...\n",
      "\n"
     ]
    },
    {
     "name": "stdout",
     "output_type": "stream",
     "text": [
      "|===================================================== |100% ~0 s remainingg                                                                                                                                                                                                                                                                                                                                                                                                                                                                                                                                                                                                                                                                                                                                                                                                                                                                                                                                                                                                                                                                                                                                                                                                                                                                                                                                                                                                                                                                                                                                                                                                                                                                                                                                                                                                                                                                                                                                                                                                                                                                                                                                                                                                                                                                                                                                                                                 "
     ]
    },
    {
     "name": "stderr",
     "output_type": "stream",
     "text": [
      "R[write to console]: \n",
      "\n",
      "\n",
      "R[write to console]: Writing 13160 unique longest peptide sequences (from initially 13160 isoforms) to new fasta file ../data/platyhelminthes_dataset_vfinal/taenia_saginata.PRJNA71493.WBPS18.protein.longest_isoforms.faa ...\n",
      "\n",
      "R[write to console]: Retrieval finished successfully.\n",
      "\n",
      " 62%|███████████████████████████████████████████████████████████████████████████▋                                             | 15/24 [09:43<05:38, 37.60s/it]R[write to console]: Extracting longest isoform from trichobilharzia_regenti.PRJEB44434.WBPS18.protein.fa.gz ...\n",
      "\n",
      "R[write to console]: Importing proteome file trichobilharzia_regenti.PRJEB44434.WBPS18.protein.fa.gz ...\n",
      "\n",
      "R[write to console]: Importing '../data/platyhelminthes_dataset_vfinal/trichobilharzia_regenti.PRJEB44434.WBPS18.canonical_geneset.gtf.gz' ...\n",
      "\n",
      "R[write to console]: Importing gtf file trichobilharzia_regenti.PRJEB44434.WBPS18.canonical_geneset.gtf.gz ...\n",
      "\n",
      "R[write to console]: Filter for gene_biotype == 'protein_coding' AND type == 'transcript' ...\n",
      "\n",
      "R[write to console]: After filtering, the gtf file includes 24642 rows.\n",
      "\n",
      "R[write to console]: Join transcript_ids from FASTA header with transcript_ids from GTF annotation file ...\n",
      "\n",
      "R[write to console]: The joined file contains 24642 rows.\n",
      "\n",
      "R[write to console]: Removing rows with NA's in columns 'transcript_id', 'width', and 'gene_id'\n",
      "\n",
      "R[write to console]: After NA removal the file contains 24642 rows.\n",
      "\n",
      "R[write to console]: Retrieving longest isoforms ...\n",
      "\n"
     ]
    },
    {
     "name": "stdout",
     "output_type": "stream",
     "text": [
      "|===================================================== |100% ~0 s remainingg                                                                                                                                                                                                                                                                                                                                                                                                                                                                                                                                                                                                                                                                                                                                                                                                                                                                                                                                                                                                                                                                                                                                                                                                                                                                                                                                                                                                                                                                                                                                                                                                                                                                                                                                                                                                                                                                                                                                                                                                                                                                                                                                                                                                                                                                                                                                                                                                                                                                                          "
     ]
    },
    {
     "name": "stderr",
     "output_type": "stream",
     "text": [
      "R[write to console]: \n",
      "\n",
      "\n",
      "R[write to console]: Writing 14478 unique longest peptide sequences (from initially 24642 isoforms) to new fasta file ../data/platyhelminthes_dataset_vfinal/trichobilharzia_regenti.PRJEB44434.WBPS18.protein.longest_isoforms.faa ...\n",
      "\n",
      "R[write to console]: Retrieval finished successfully.\n",
      "\n",
      " 67%|████████████████████████████████████████████████████████████████████████████████▋                                        | 16/24 [10:23<05:08, 38.53s/it]R[write to console]: Extracting longest isoform from schistosoma_japonicum.PRJNA520774.WBPS18.protein.fa.gz ...\n",
      "\n",
      "R[write to console]: Importing proteome file schistosoma_japonicum.PRJNA520774.WBPS18.protein.fa.gz ...\n",
      "\n",
      "R[write to console]: Importing '../data/platyhelminthes_dataset_vfinal/schistosoma_japonicum.PRJNA520774.WBPS18.canonical_geneset.gtf.gz' ...\n",
      "\n",
      "R[write to console]: Importing gtf file schistosoma_japonicum.PRJNA520774.WBPS18.canonical_geneset.gtf.gz ...\n",
      "\n",
      "R[write to console]: Filter for gene_biotype == 'protein_coding' AND type == 'transcript' ...\n",
      "\n",
      "R[write to console]: After filtering, the gtf file includes 16936 rows.\n",
      "\n",
      "R[write to console]: Join transcript_ids from FASTA header with transcript_ids from GTF annotation file ...\n",
      "\n",
      "R[write to console]: The joined file contains 16936 rows.\n",
      "\n",
      "R[write to console]: Removing rows with NA's in columns 'transcript_id', 'width', and 'gene_id'\n",
      "\n",
      "R[write to console]: After NA removal the file contains 16936 rows.\n",
      "\n",
      "R[write to console]: Retrieving longest isoforms ...\n",
      "\n"
     ]
    },
    {
     "name": "stdout",
     "output_type": "stream",
     "text": [
      "|===================================================== |100% ~0 s remainingg                                                                                                                                                                                                                                                                                                                                                                                                                                                                                                                                                                                                                                                                                                                                                                                                                                                                                                                                                                                                                                                                                                                                                                                                                                                                                                                                                                                                                                                                                                                                                                                                                                                                                                                                                     "
     ]
    },
    {
     "name": "stderr",
     "output_type": "stream",
     "text": [
      "R[write to console]: \n",
      "\n",
      "\n",
      "R[write to console]: Writing 10089 unique longest peptide sequences (from initially 16936 isoforms) to new fasta file ../data/platyhelminthes_dataset_vfinal/schistosoma_japonicum.PRJNA520774.WBPS18.protein.longest_isoforms.faa ...\n",
      "\n",
      "R[write to console]: Retrieval finished successfully.\n",
      "\n",
      " 71%|█████████████████████████████████████████████████████████████████████████████████████▋                                   | 17/24 [10:51<04:06, 35.23s/it]R[write to console]: Extracting longest isoform from clonorchis_sinensis.PRJDA72781.WBPS18.protein.fa.gz ...\n",
      "\n",
      "R[write to console]: Importing proteome file clonorchis_sinensis.PRJDA72781.WBPS18.protein.fa.gz ...\n",
      "\n",
      "R[write to console]: Importing '../data/platyhelminthes_dataset_vfinal/clonorchis_sinensis.PRJDA72781.WBPS18.canonical_geneset.gtf.gz' ...\n",
      "\n",
      "R[write to console]: Importing gtf file clonorchis_sinensis.PRJDA72781.WBPS18.canonical_geneset.gtf.gz ...\n",
      "\n",
      "R[write to console]: Filter for gene_biotype == 'protein_coding' AND type == 'transcript' ...\n",
      "\n",
      "R[write to console]: After filtering, the gtf file includes 13634 rows.\n",
      "\n",
      "R[write to console]: Join transcript_ids from FASTA header with transcript_ids from GTF annotation file ...\n",
      "\n",
      "R[write to console]: The joined file contains 13634 rows.\n",
      "\n",
      "R[write to console]: Removing rows with NA's in columns 'transcript_id', 'width', and 'gene_id'\n",
      "\n",
      "R[write to console]: After NA removal the file contains 13634 rows.\n",
      "\n",
      "R[write to console]: Retrieving longest isoforms ...\n",
      "\n"
     ]
    },
    {
     "name": "stdout",
     "output_type": "stream",
     "text": [
      "|===================================================== |100% ~0 s remainingg                                                                                                                                                                                                                                                                                                                                                                                                                                                                                                                                                                                                                                                                                                                                                                                                                                                                                                                                                                                                                                                                                                                                                                                                                                                                                                                                                                                                                                                                                                                                                                                                                                                                                                                                                                                                                                                                                                                                                                                                                                                                                                                                                                                                                                                                                                                                                                                                                                           "
     ]
    },
    {
     "name": "stderr",
     "output_type": "stream",
     "text": [
      "R[write to console]: \n",
      "\n",
      "\n",
      "R[write to console]: Writing 13634 unique longest peptide sequences (from initially 13634 isoforms) to new fasta file ../data/platyhelminthes_dataset_vfinal/clonorchis_sinensis.PRJDA72781.WBPS18.protein.longest_isoforms.faa ...\n",
      "\n",
      "R[write to console]: Retrieval finished successfully.\n",
      "\n",
      " 75%|██████████████████████████████████████████████████████████████████████████████████████████▊                              | 18/24 [11:26<03:31, 35.24s/it]R[write to console]: Extracting longest isoform from mesocestoides_corti.PRJEB510.WBPS18.protein.fa.gz ...\n",
      "\n",
      "R[write to console]: Importing proteome file mesocestoides_corti.PRJEB510.WBPS18.protein.fa.gz ...\n",
      "\n",
      "R[write to console]: Importing '../data/platyhelminthes_dataset_vfinal/mesocestoides_corti.PRJEB510.WBPS18.canonical_geneset.gtf.gz' ...\n",
      "\n",
      "R[write to console]: Importing gtf file mesocestoides_corti.PRJEB510.WBPS18.canonical_geneset.gtf.gz ...\n",
      "\n",
      "R[write to console]: Filter for gene_biotype == 'protein_coding' AND type == 'transcript' ...\n",
      "\n",
      "R[write to console]: After filtering, the gtf file includes 22215 rows.\n",
      "\n",
      "R[write to console]: Join transcript_ids from FASTA header with transcript_ids from GTF annotation file ...\n",
      "\n",
      "R[write to console]: The joined file contains 22215 rows.\n",
      "\n",
      "R[write to console]: Removing rows with NA's in columns 'transcript_id', 'width', and 'gene_id'\n",
      "\n",
      "R[write to console]: After NA removal the file contains 22215 rows.\n",
      "\n",
      "R[write to console]: Retrieving longest isoforms ...\n",
      "\n"
     ]
    },
    {
     "name": "stdout",
     "output_type": "stream",
     "text": [
      "|===================================================== |100% ~0 s remainingg                                                                                                                                                                                                                                                                                                                                                                                                                                                                                                                                                                                                                                                                                                                                                                                                                                                                                                                                                                                                                                                                                                                                                                                                                                                                                                                                                                                                                                                                                                                                                                                                                                                                                                                                                                                                                                                                                                                                                                                                                                                                                                                                                                                                                                                                                                                                                                                                                                                                                                                                                                                                 "
     ]
    },
    {
     "name": "stderr",
     "output_type": "stream",
     "text": [
      "R[write to console]: \n",
      "\n",
      "\n",
      "R[write to console]: Writing 14704 unique longest peptide sequences (from initially 22215 isoforms) to new fasta file ../data/platyhelminthes_dataset_vfinal/mesocestoides_corti.PRJEB510.WBPS18.protein.longest_isoforms.faa ...\n",
      "\n",
      "R[write to console]: Retrieval finished successfully.\n",
      "\n",
      " 79%|███████████████████████████████████████████████████████████████████████████████████████████████▊                         | 19/24 [12:05<03:02, 36.48s/it]R[write to console]: Extracting longest isoform from opisthorchis_viverrini.PRJNA222628.WBPS18.protein.fa.gz ...\n",
      "\n",
      "R[write to console]: Importing proteome file opisthorchis_viverrini.PRJNA222628.WBPS18.protein.fa.gz ...\n",
      "\n",
      "R[write to console]: Importing '../data/platyhelminthes_dataset_vfinal/opisthorchis_viverrini.PRJNA222628.WBPS18.canonical_geneset.gtf.gz' ...\n",
      "\n",
      "R[write to console]: Importing gtf file opisthorchis_viverrini.PRJNA222628.WBPS18.canonical_geneset.gtf.gz ...\n",
      "\n",
      "R[write to console]: Filter for gene_biotype == 'protein_coding' AND type == 'transcript' ...\n",
      "\n",
      "R[write to console]: After filtering, the gtf file includes 16379 rows.\n",
      "\n",
      "R[write to console]: Join transcript_ids from FASTA header with transcript_ids from GTF annotation file ...\n",
      "\n",
      "R[write to console]: The joined file contains 16379 rows.\n",
      "\n",
      "R[write to console]: Removing rows with NA's in columns 'transcript_id', 'width', and 'gene_id'\n",
      "\n",
      "R[write to console]: After NA removal the file contains 16379 rows.\n",
      "\n",
      "R[write to console]: Retrieving longest isoforms ...\n",
      "\n"
     ]
    },
    {
     "name": "stdout",
     "output_type": "stream",
     "text": [
      "|===================================================== |100% ~0 s remainingg                                                                                                                                                                                                                                                                                                                                                                                                                                                                                                                                                                                                                                                                                                                                                                                                                                                                                                                                                                                                                                                                                                                                                                                                                                                                                                                                                                                                                                                                                                                                                                                                                                                                                                                                                                                                                                                                                                                                                                                                                                                                                                                                                                                                                                                                                                                                                                                                                                                                                                                                                                                                                                                                                                                                                                                                                                                                                                                                                                                                                                                                                                                                                           "
     ]
    },
    {
     "name": "stderr",
     "output_type": "stream",
     "text": [
      "R[write to console]: \n",
      "\n",
      "\n",
      "R[write to console]: Writing 16379 unique longest peptide sequences (from initially 16379 isoforms) to new fasta file ../data/platyhelminthes_dataset_vfinal/opisthorchis_viverrini.PRJNA222628.WBPS18.protein.longest_isoforms.faa ...\n",
      "\n",
      "R[write to console]: Retrieval finished successfully.\n",
      "\n",
      " 83%|████████████████████████████████████████████████████████████████████████████████████████████████████▊                    | 20/24 [12:50<02:35, 38.88s/it]R[write to console]: Extracting longest isoform from echinococcus_granulosus.PRJEB121.WBPS18.protein.fa.gz ...\n",
      "\n",
      "R[write to console]: Importing proteome file echinococcus_granulosus.PRJEB121.WBPS18.protein.fa.gz ...\n",
      "\n",
      "R[write to console]: Importing '../data/platyhelminthes_dataset_vfinal/echinococcus_granulosus.PRJEB121.WBPS18.canonical_geneset.gtf.gz' ...\n",
      "\n",
      "R[write to console]: Importing gtf file echinococcus_granulosus.PRJEB121.WBPS18.canonical_geneset.gtf.gz ...\n",
      "\n",
      "R[write to console]: Filter for gene_biotype == 'protein_coding' AND type == 'transcript' ...\n",
      "\n",
      "R[write to console]: After filtering, the gtf file includes 10264 rows.\n",
      "\n",
      "R[write to console]: Join transcript_ids from FASTA header with transcript_ids from GTF annotation file ...\n",
      "\n",
      "R[write to console]: The joined file contains 10264 rows.\n",
      "\n",
      "R[write to console]: Removing rows with NA's in columns 'transcript_id', 'width', and 'gene_id'\n",
      "\n",
      "R[write to console]: After NA removal the file contains 10264 rows.\n",
      "\n",
      "R[write to console]: Retrieving longest isoforms ...\n",
      "\n"
     ]
    },
    {
     "name": "stdout",
     "output_type": "stream",
     "text": [
      "|===================================================== |100% ~0 s remainingg                                                                                                                                                                                                                                                                                                                                                                                                                                                                                                                                                                                                                                                                                                                                                                                                                                                                                                                                                                                                                                                                                                                                                                                                                                                                                                                                                                                                                                                                                                                                                                                                                                                                                                                                                                                                   "
     ]
    },
    {
     "name": "stderr",
     "output_type": "stream",
     "text": [
      "R[write to console]: \n",
      "\n",
      "\n",
      "R[write to console]: Writing 10236 unique longest peptide sequences (from initially 10264 isoforms) to new fasta file ../data/platyhelminthes_dataset_vfinal/echinococcus_granulosus.PRJEB121.WBPS18.protein.longest_isoforms.faa ...\n",
      "\n",
      "R[write to console]: Retrieval finished successfully.\n",
      "\n",
      " 88%|█████████████████████████████████████████████████████████████████████████████████████████████████████████▉               | 21/24 [13:16<01:44, 35.00s/it]R[write to console]: Extracting longest isoform from schistosoma_curassoni.PRJEB44434.WBPS18.protein.fa.gz ...\n",
      "\n",
      "R[write to console]: Importing proteome file schistosoma_curassoni.PRJEB44434.WBPS18.protein.fa.gz ...\n",
      "\n",
      "R[write to console]: Importing '../data/platyhelminthes_dataset_vfinal/schistosoma_curassoni.PRJEB44434.WBPS18.canonical_geneset.gtf.gz' ...\n",
      "\n",
      "R[write to console]: Importing gtf file schistosoma_curassoni.PRJEB44434.WBPS18.canonical_geneset.gtf.gz ...\n",
      "\n",
      "R[write to console]: Filter for gene_biotype == 'protein_coding' AND type == 'transcript' ...\n",
      "\n",
      "R[write to console]: After filtering, the gtf file includes 20253 rows.\n",
      "\n",
      "R[write to console]: Join transcript_ids from FASTA header with transcript_ids from GTF annotation file ...\n",
      "\n",
      "R[write to console]: The joined file contains 20253 rows.\n",
      "\n",
      "R[write to console]: Removing rows with NA's in columns 'transcript_id', 'width', and 'gene_id'\n",
      "\n",
      "R[write to console]: After NA removal the file contains 20253 rows.\n",
      "\n",
      "R[write to console]: Retrieving longest isoforms ...\n",
      "\n"
     ]
    },
    {
     "name": "stdout",
     "output_type": "stream",
     "text": [
      "|===================================================== |100% ~0 s remainingg                                                                                                                                                                                                                                                                                                                                                                                                                                                                                                                                                                                                                                                                                                                                                                                                                                                                                                                                                                                                                                                                                                                                                                                                                                                                                                                                                                                                                                                                                                                                                                                                                                                                                                                                                                    "
     ]
    },
    {
     "name": "stderr",
     "output_type": "stream",
     "text": [
      "R[write to console]: \n",
      "\n",
      "\n",
      "R[write to console]: Writing 10084 unique longest peptide sequences (from initially 20253 isoforms) to new fasta file ../data/platyhelminthes_dataset_vfinal/schistosoma_curassoni.PRJEB44434.WBPS18.protein.longest_isoforms.faa ...\n",
      "\n",
      "R[write to console]: Retrieval finished successfully.\n",
      "\n",
      " 92%|██████████████████████████████████████████████████████████████████████████████████████████████████████████████▉          | 22/24 [13:46<01:07, 33.56s/it]R[write to console]: Extracting longest isoform from clonorchis_sinensis.PRJNA386618.WBPS18.protein.fa.gz ...\n",
      "\n",
      "R[write to console]: Importing proteome file clonorchis_sinensis.PRJNA386618.WBPS18.protein.fa.gz ...\n",
      "\n",
      "R[write to console]: Importing '../data/platyhelminthes_dataset_vfinal/clonorchis_sinensis.PRJNA386618.WBPS18.canonical_geneset.gtf.gz' ...\n",
      "\n",
      "R[write to console]: Importing gtf file clonorchis_sinensis.PRJNA386618.WBPS18.canonical_geneset.gtf.gz ...\n",
      "\n",
      "R[write to console]: Filter for gene_biotype == 'protein_coding' AND type == 'transcript' ...\n",
      "\n",
      "R[write to console]: After filtering, the gtf file includes 14408 rows.\n",
      "\n",
      "R[write to console]: Join transcript_ids from FASTA header with transcript_ids from GTF annotation file ...\n",
      "\n",
      "R[write to console]: The joined file contains 14408 rows.\n",
      "\n",
      "R[write to console]: Removing rows with NA's in columns 'transcript_id', 'width', and 'gene_id'\n",
      "\n",
      "R[write to console]: After NA removal the file contains 14408 rows.\n",
      "\n",
      "R[write to console]: Retrieving longest isoforms ...\n",
      "\n"
     ]
    },
    {
     "name": "stdout",
     "output_type": "stream",
     "text": [
      "|===================================================== |100% ~0 s remainingg                                                                                                                                                                                                                                                                                                                                                                                                                                                                                                                                                                                                                                                                                                                                                                                                                                                                                                                                                                                                                                                                                                                                                                                                                                                                                                                                                                                                                                                                                                                                                                                                                                                                                                                                                                                                                                                                                                                                                                                                                                                                                                                                                                                                                                                                                                                                                                                                                                                                                                                                                                                                                                                                                                                                                                                                                                                         "
     ]
    },
    {
     "name": "stderr",
     "output_type": "stream",
     "text": [
      "R[write to console]: \n",
      "\n",
      "\n",
      "R[write to console]: Writing 13489 unique longest peptide sequences (from initially 14408 isoforms) to new fasta file ../data/platyhelminthes_dataset_vfinal/clonorchis_sinensis.PRJNA386618.WBPS18.protein.longest_isoforms.faa ...\n",
      "\n",
      "R[write to console]: Retrieval finished successfully.\n",
      "\n",
      " 96%|███████████████████████████████████████████████████████████████████████████████████████████████████████████████████▉     | 23/24 [14:26<00:35, 35.44s/it]R[write to console]: Extracting longest isoform from schistosoma_haematobium.PRJNA78265.WBPS18.protein.fa.gz ...\n",
      "\n",
      "R[write to console]: Importing proteome file schistosoma_haematobium.PRJNA78265.WBPS18.protein.fa.gz ...\n",
      "\n",
      "R[write to console]: Importing '../data/platyhelminthes_dataset_vfinal/schistosoma_haematobium.PRJNA78265.WBPS18.canonical_geneset.gtf.gz' ...\n",
      "\n",
      "R[write to console]: Importing gtf file schistosoma_haematobium.PRJNA78265.WBPS18.canonical_geneset.gtf.gz ...\n",
      "\n",
      "R[write to console]: Filter for gene_biotype == 'protein_coding' AND type == 'transcript' ...\n",
      "\n",
      "R[write to console]: After filtering, the gtf file includes 14700 rows.\n",
      "\n",
      "R[write to console]: Join transcript_ids from FASTA header with transcript_ids from GTF annotation file ...\n",
      "\n",
      "R[write to console]: The joined file contains 14700 rows.\n",
      "\n",
      "R[write to console]: Removing rows with NA's in columns 'transcript_id', 'width', and 'gene_id'\n",
      "\n",
      "R[write to console]: After NA removal the file contains 14700 rows.\n",
      "\n",
      "R[write to console]: Retrieving longest isoforms ...\n",
      "\n"
     ]
    },
    {
     "name": "stdout",
     "output_type": "stream",
     "text": [
      "|===================================================== |100% ~0 s remainingg                                                                                                                                                                                                                                                                                                                                                                                                                                                                                                                                                                                                                                                                                                                                                                                                                                                                                                                                                                                                                                                                                                                                                                                                                                                                                                                                                                                                                                                                                                                                                                                                                                                                                                                                                                                                                                                                                                                                                                                                                                "
     ]
    },
    {
     "name": "stderr",
     "output_type": "stream",
     "text": [
      "R[write to console]: \n",
      "\n",
      "\n",
      "R[write to console]: Writing 9431 unique longest peptide sequences (from initially 14700 isoforms) to new fasta file ../data/platyhelminthes_dataset_vfinal/schistosoma_haematobium.PRJNA78265.WBPS18.protein.longest_isoforms.faa ...\n",
      "\n",
      "R[write to console]: Retrieval finished successfully.\n",
      "\n",
      "100%|█████████████████████████████████████████████████████████████████████████████████████████████████████████████████████████| 24/24 [14:59<00:00, 37.49s/it]\n"
     ]
    }
   ],
   "source": [
    "for protein_file in tqdm.tqdm(glob.glob('../data/platyhelminthes_dataset_vfinal/*.protein*')):\n",
    "    annotation_file = protein_file.replace('.protein.fa.gz', '.canonical_geneset.gtf.gz')\n",
    "    new_protein_file = protein_file.rpartition('.fa.gz')[0]+'.longest_isoforms.faa'\n",
    "    rpy2.robjects.globalenv['protein_file'] = protein_file\n",
    "    rpy2.robjects.globalenv['annotation_file'] = annotation_file\n",
    "    rpy2.robjects.globalenv['new_protein_file'] = new_protein_file\n",
    "    rpy2.robjects.r(\"retrieve_longest_isoforms(proteome_file = protein_file, annotation_file = annotation_file, new_file = new_protein_file, annotation_format = 'gtf')\")"
   ]
  },
  {
   "cell_type": "code",
   "execution_count": 39,
   "id": "2c6958a9-9867-4fad-8e92-4bfe093b0cc6",
   "metadata": {},
   "outputs": [],
   "source": [
    "target_genomes = ['fasciola_hepatica.PRJEB25283.WBPS18',\n",
    " 'schistosoma_japonicum.PRJNA520774.WBPS18',\n",
    " 'echinococcus_granulosus.PRJEB121.WBPS18',\n",
    " 'opisthorchis_viverrini.PRJNA222628.WBPS18',\n",
    " 'schistosoma_curassoni.PRJEB44434.WBPS18',\n",
    " 'trichobilharzia_regenti.PRJEB44434.WBPS18',\n",
    " 'taenia_asiatica.PRJEB532.WBPS18',\n",
    " 'echinococcus_granulosus.PRJNA182977.WBPS18',\n",
    " 'taenia_asiatica.PRJNA299871.WBPS18',\n",
    " 'clonorchis_sinensis.PRJNA386618.WBPS18',\n",
    " 'macrostomum_lignano.PRJNA371498.WBPS18',\n",
    " 'mesocestoides_corti.PRJEB510.WBPS18',\n",
    " 'schistosoma_haematobium.PRJNA78265.WBPS18',\n",
    " 'schistosoma_mansoni.PRJEA36577.WBPS18',\n",
    " 'hymenolepis_diminuta.PRJEB30942.WBPS18',\n",
    " 'taenia_saginata.PRJNA71493.WBPS18',\n",
    " 'echinococcus_canadensis.PRJEB8992.WBPS18',\n",
    " 'echinococcus_multilocularis.PRJEB122.WBPS18',\n",
    " 'schistosoma_margrebowiei.PRJEB44434.WBPS18',\n",
    " 'schmidtea_mediterranea.PRJNA12585.WBPS18',\n",
    " 'taenia_solium.PRJNA170813.WBPS18',\n",
    " 'schistosoma_mattheei.PRJEB44434.WBPS18',\n",
    " 'hymenolepis_microstoma.PRJEB124.WBPS18']"
   ]
  },
  {
   "cell_type": "code",
   "execution_count": 40,
   "id": "d65da895-6612-4577-bc08-9eb2fac33d27",
   "metadata": {},
   "outputs": [
    {
     "data": {
      "text/plain": [
       "23"
      ]
     },
     "execution_count": 40,
     "metadata": {},
     "output_type": "execute_result"
    }
   ],
   "source": [
    "len(target_genomes)"
   ]
  },
  {
   "cell_type": "code",
   "execution_count": null,
   "id": "fdb7ee62-0858-4927-b33a-be13bd00704a",
   "metadata": {},
   "outputs": [],
   "source": []
  },
  {
   "cell_type": "code",
   "execution_count": 44,
   "id": "3684cb40-bc4f-46c2-9885-bb535dcd3113",
   "metadata": {},
   "outputs": [
    {
     "name": "stdout",
     "output_type": "stream",
     "text": [
      "../data/platyhelminthes_dataset_vfinal/schmidtea_mediterranea.PRJNA12585.WBPS18.protein.longest_isoforms.faa\n",
      "../data/platyhelminthes_dataset_vfinal/echinococcus_multilocularis.PRJEB122.WBPS18.protein.longest_isoforms.faa\n",
      "../data/platyhelminthes_dataset_vfinal/schistosoma_margrebowiei.PRJEB44434.WBPS18.protein.longest_isoforms.faa\n",
      "../data/platyhelminthes_dataset_vfinal/mesocestoides_corti.PRJEB510.WBPS18.protein.longest_isoforms.faa\n",
      "../data/platyhelminthes_dataset_vfinal/schistosoma_mansoni.PRJEA36577.WBPS18.protein.longest_isoforms.faa\n",
      "../data/platyhelminthes_dataset_vfinal/taenia_asiatica.PRJNA299871.WBPS18.protein.longest_isoforms.faa\n",
      "../data/platyhelminthes_dataset_vfinal/echinococcus_granulosus.PRJNA182977.WBPS18.protein.longest_isoforms.faa\n",
      "../data/platyhelminthes_dataset_vfinal/clonorchis_sinensis.PRJDA72781.WBPS18.protein.longest_isoforms.faa\n",
      "../data/platyhelminthes_dataset_vfinal/trichobilharzia_regenti.PRJEB44434.WBPS18.protein.longest_isoforms.faa\n",
      "../data/platyhelminthes_dataset_vfinal/schistosoma_mattheei.PRJEB44434.WBPS18.protein.longest_isoforms.faa\n",
      "../data/platyhelminthes_dataset_vfinal/taenia_solium.PRJNA170813.WBPS18.protein.longest_isoforms.faa\n",
      "../data/platyhelminthes_dataset_vfinal/opisthorchis_viverrini.PRJNA222628.WBPS18.protein.longest_isoforms.faa\n",
      "../data/platyhelminthes_dataset_vfinal/echinococcus_granulosus.PRJEB121.WBPS18.protein.longest_isoforms.faa\n",
      "../data/platyhelminthes_dataset_vfinal/fasciola_hepatica.PRJEB25283.WBPS18.protein.longest_isoforms.faa\n",
      "../data/platyhelminthes_dataset_vfinal/schistosoma_japonicum.PRJNA520774.WBPS18.protein.longest_isoforms.faa\n",
      "../data/platyhelminthes_dataset_vfinal/clonorchis_sinensis.PRJNA386618.WBPS18.protein.longest_isoforms.faa\n",
      "../data/platyhelminthes_dataset_vfinal/hymenolepis_microstoma.PRJEB124.WBPS18.protein.longest_isoforms.faa\n",
      "../data/platyhelminthes_dataset_vfinal/schistosoma_haematobium.PRJNA78265.WBPS18.protein.longest_isoforms.faa\n",
      "../data/platyhelminthes_dataset_vfinal/hymenolepis_diminuta.PRJEB30942.WBPS18.protein.longest_isoforms.faa\n",
      "../data/platyhelminthes_dataset_vfinal/echinococcus_canadensis.PRJEB8992.WBPS18.protein.longest_isoforms.faa\n",
      "../data/platyhelminthes_dataset_vfinal/macrostomum_lignano.PRJNA371498.WBPS18.protein.longest_isoforms.faa\n",
      "../data/platyhelminthes_dataset_vfinal/taenia_saginata.PRJNA71493.WBPS18.protein.longest_isoforms.faa\n",
      "../data/platyhelminthes_dataset_vfinal/schistosoma_curassoni.PRJEB44434.WBPS18.protein.longest_isoforms.faa\n",
      "../data/platyhelminthes_dataset_vfinal/taenia_asiatica.PRJEB532.WBPS18.protein.longest_isoforms.faa\n"
     ]
    }
   ],
   "source": [
    "for file in glob.glob('../data/platyhelminthes_dataset_vfinal/*isoform*'):\n",
    "    label = file.rpartition('/')[2].split('.')[0]+'_'+file.rpartition('/')[2].split('.')[1]\n",
    "    if label in target_genomes:\n",
    "        %system cp {file} ../"
   ]
  },
  {
   "cell_type": "markdown",
   "id": "54764934-ed36-417c-9043-12a8ed22f607",
   "metadata": {},
   "source": [
    "https://drostlab.github.io/orthologr/reference/retrieve_longest_isoforms.html"
   ]
  },
  {
   "cell_type": "markdown",
   "id": "17e993ac-9e1e-4d32-8ce8-7a47fc761522",
   "metadata": {},
   "source": [
    "# Renaming set of proteins"
   ]
  },
  {
   "cell_type": "code",
   "execution_count": 51,
   "id": "fa117d6b-0906-4ceb-a40b-92cd59ae6930",
   "metadata": {},
   "outputs": [],
   "source": [
    "# create species to code dictionary\n",
    "species2code = {species: species.split(' ')[0][0]+species.split(' ')[1][0:3].lower() for species in platys_data['Species Name'].to_list()} # create a dictionary species-code\n",
    "# load all proteins into a dictionary (label as key, Biopython SeqRecord as object)\n",
    "# rename all proteins using the codes in species2code dic\n",
    "# each protein is named as <code>.<num>, increasing number from 1 to n (n = proteome size)"
   ]
  },
  {
   "cell_type": "code",
   "execution_count": 57,
   "id": "a7417406-466c-4644-a0e7-8907289dd17e",
   "metadata": {},
   "outputs": [],
   "source": [
    "import glob, gzip\n",
    "from Bio import SeqIO\n",
    "\n",
    "# create species to code dictionary\n",
    "species2code = {species: species.split(' ')[0][0]+species.split(' ')[1][0:3].lower() for species in platys_data['Species Name'].to_list()}\n",
    "# Create an empty list to store original and new protein names\n",
    "correlation_data = []\n",
    "# Load all proteins into a dictionary\n",
    "protein_dict = {}\n",
    "\n",
    "protein_files = glob.glob('../data/platyhelminthes_dataset_vfinal/*isoforms*.faa')\n",
    "for file in tqdm.tqdm(protein_files):\n",
    "    species_name = file.rpartition('/')[2].split('.')[0].split('_')[0].title() + ' ' + file.rpartition('/')[2].split('.')[0].split('_')[1]\n",
    "    code = species2code.get(species_name)\n",
    "    if code:\n",
    "        with open(file, 'rt') as f:\n",
    "            records = SeqIO.parse(f, \"fasta\")\n",
    "            for i, record in enumerate(records, start=1):\n",
    "                original_name = record.id\n",
    "                new_name = f\"{code}.{i}\"\n",
    "                correlation_data.append({'Original Name': original_name, 'New Name': new_name})\n",
    "                record.id = new_name\n",
    "                record.name = new_name\n",
    "                record.description = new_name\n",
    "                protein_dict[new_name] = record\n"
   ]
  },
  {
   "cell_type": "code",
   "execution_count": 58,
   "id": "83bc2632-4e65-4fc8-ac8c-9a05f91f4964",
   "metadata": {},
   "outputs": [],
   "source": [
    "# creating a correlation table to save\n",
    "original2new = pd.DataFrame.from_dict(correlation_data)"
   ]
  },
  {
   "cell_type": "code",
   "execution_count": 64,
   "id": "6cd46521-a8b6-46fc-8bf0-da8f9debd9e9",
   "metadata": {},
   "outputs": [
    {
     "data": {
      "text/plain": [
       "'../data/platyhelminthes_dataset_vfinal/schmidtea_mediterranea.PRJNA12585.WBPS18.protein.longest_isoforms.faa'"
      ]
     },
     "execution_count": 64,
     "metadata": {},
     "output_type": "execute_result"
    }
   ],
   "source": [
    "glob.glob('../data/platyhelminthes_dataset_vfinal/*isoforms*.faa')[0]"
   ]
  },
  {
   "cell_type": "code",
   "execution_count": 66,
   "id": "5e75a923-fe08-42d8-a330-419fc6e2f78c",
   "metadata": {},
   "outputs": [
    {
     "data": {
      "text/plain": [
       "'fasciola_hepatica.PRJEB25283.WBPS18'"
      ]
     },
     "execution_count": 66,
     "metadata": {},
     "output_type": "execute_result"
    }
   ],
   "source": [
    "target_genomes[0]"
   ]
  },
  {
   "cell_type": "code",
   "execution_count": 70,
   "id": "0c3d1fb5-8083-45f3-afc6-5bd270d8002a",
   "metadata": {},
   "outputs": [],
   "source": [
    "import os"
   ]
  },
  {
   "cell_type": "code",
   "execution_count": 81,
   "id": "b17fe477-c61e-48f3-a084-7fa80d354c47",
   "metadata": {},
   "outputs": [
    {
     "name": "stderr",
     "output_type": "stream",
     "text": [
      "100%|█████████████████████████████████████████████████████████████████████████████████████████████████████████████████████████| 23/23 [00:02<00:00, 10.93it/s]\n"
     ]
    }
   ],
   "source": [
    "for target_genome in tqdm.tqdm(target_genomes):\n",
    "    species = target_genome.rpartition('.')[0].split('_')[0].title() + ' ' + target_genome.rpartition('.')[0].split('_')[1].rpartition('.')[0]\n",
    "    code = species2code.get(species)\n",
    "    records = [record for recordid,record in protein_dict.items() if recordid.rpartition('.')[0] == code]\n",
    "    proteome_name = f'../data/platyhelminthes_dataset/{target_genome}.protein.longest_isoforms.faa'\n",
    "    if not os.path.exists(proteome_name):\n",
    "        with open(proteome_name, 'a') as f:\n",
    "            SeqIO.write(records, proteome_name, 'fasta')"
   ]
  },
  {
   "cell_type": "markdown",
   "id": "531bfff5-8bb0-4c90-86b5-45b53197a569",
   "metadata": {},
   "source": [
    "# Homologues group inference\n",
    "Criteria: -"
   ]
  }
 ],
 "metadata": {
  "kernelspec": {
   "display_name": "Python 3 (ipykernel)",
   "language": "python",
   "name": "python3"
  },
  "language_info": {
   "codemirror_mode": {
    "name": "ipython",
    "version": 3
   },
   "file_extension": ".py",
   "mimetype": "text/x-python",
   "name": "python",
   "nbconvert_exporter": "python",
   "pygments_lexer": "ipython3",
   "version": "3.10.13"
  }
 },
 "nbformat": 4,
 "nbformat_minor": 5
}
