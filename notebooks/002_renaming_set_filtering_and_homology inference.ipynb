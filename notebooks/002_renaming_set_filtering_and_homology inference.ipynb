{
 "cells": [
  {
   "cell_type": "markdown",
   "id": "2dc9b0d0-f6a5-4149-bfe3-a945110cd5d2",
   "metadata": {},
   "source": [
    "# Overview"
   ]
  },
  {
   "cell_type": "code",
   "execution_count": 3,
   "id": "6486bc54-71a8-4177-b419-6950ca613880",
   "metadata": {},
   "outputs": [],
   "source": [
    "import pandas as pd\n",
    "\n",
    "platys_data = pd.read_csv('../data/species_Platyhelminthes--___w_labels.csv')"
   ]
  },
  {
   "cell_type": "code",
   "execution_count": 4,
   "id": "d9497fe5-452f-4731-b539-31c511e8eab9",
   "metadata": {},
   "outputs": [
    {
     "data": {
      "text/html": [
       "<div>\n",
       "<style scoped>\n",
       "    .dataframe tbody tr th:only-of-type {\n",
       "        vertical-align: middle;\n",
       "    }\n",
       "\n",
       "    .dataframe tbody tr th {\n",
       "        vertical-align: top;\n",
       "    }\n",
       "\n",
       "    .dataframe thead th {\n",
       "        text-align: right;\n",
       "    }\n",
       "</style>\n",
       "<table border=\"1\" class=\"dataframe\">\n",
       "  <thead>\n",
       "    <tr style=\"text-align: right;\">\n",
       "      <th></th>\n",
       "      <th>Species Name</th>\n",
       "      <th>Provider</th>\n",
       "      <th>Assembly</th>\n",
       "      <th>BioProject ID</th>\n",
       "      <th>Clade</th>\n",
       "      <th>Genome Browser</th>\n",
       "      <th>N50</th>\n",
       "      <th>Genome Size</th>\n",
       "      <th>Number of Scaffolds</th>\n",
       "      <th>Number of Coding Genes</th>\n",
       "      <th>label</th>\n",
       "    </tr>\n",
       "  </thead>\n",
       "  <tbody>\n",
       "    <tr>\n",
       "      <th>0</th>\n",
       "      <td>Atriophallophorus winterbourni</td>\n",
       "      <td>Swiss Federal Institute of Technology in Zurich</td>\n",
       "      <td>ASM1340708v1</td>\n",
       "      <td>PRJNA636673</td>\n",
       "      <td>Trematoda (Flukes)</td>\n",
       "      <td>JBrowse | Ensembl</td>\n",
       "      <td>39,978</td>\n",
       "      <td>601,728,533</td>\n",
       "      <td>26,114</td>\n",
       "      <td>11,499</td>\n",
       "      <td>atriophallophorus_winterbourni_PRJNA636673</td>\n",
       "    </tr>\n",
       "    <tr>\n",
       "      <th>1</th>\n",
       "      <td>Clonorchis sinensis</td>\n",
       "      <td>Sun Yat-sen University</td>\n",
       "      <td>C_sinensis-2.0</td>\n",
       "      <td>PRJDA72781</td>\n",
       "      <td>Trematoda (Flukes)</td>\n",
       "      <td>JBrowse | Ensembl</td>\n",
       "      <td>415,842</td>\n",
       "      <td>547,288,241</td>\n",
       "      <td>4,348</td>\n",
       "      <td>13,634</td>\n",
       "      <td>clonorchis_sinensis_PRJDA72781</td>\n",
       "    </tr>\n",
       "    <tr>\n",
       "      <th>2</th>\n",
       "      <td>Clonorchis sinensis</td>\n",
       "      <td>The University of Melbourne</td>\n",
       "      <td>CSKR.v2</td>\n",
       "      <td>PRJNA386618</td>\n",
       "      <td>Trematoda (Flukes)</td>\n",
       "      <td>JBrowse | Ensembl</td>\n",
       "      <td>168,711,085</td>\n",
       "      <td>558,124,894</td>\n",
       "      <td>78</td>\n",
       "      <td>13,489</td>\n",
       "      <td>clonorchis_sinensis_PRJNA386618</td>\n",
       "    </tr>\n",
       "    <tr>\n",
       "      <th>3</th>\n",
       "      <td>Dibothriocephalus latus</td>\n",
       "      <td>Wellcome Sanger Institute</td>\n",
       "      <td>D_latum_Geneva_0011_upd</td>\n",
       "      <td>PRJEB1206</td>\n",
       "      <td>Cestoda (Tapeworms)</td>\n",
       "      <td>JBrowse | Ensembl</td>\n",
       "      <td>6,726</td>\n",
       "      <td>531,434,409</td>\n",
       "      <td>140,294</td>\n",
       "      <td>19,966</td>\n",
       "      <td>dibothriocephalus_latus_PRJEB1206</td>\n",
       "    </tr>\n",
       "    <tr>\n",
       "      <th>4</th>\n",
       "      <td>Dicrocoelium dendriticum</td>\n",
       "      <td>Wellcome Sanger Institute</td>\n",
       "      <td>tdDicDend1.1</td>\n",
       "      <td>PRJEB44434</td>\n",
       "      <td>Trematoda (Flukes)</td>\n",
       "      <td>JBrowse | Ensembl</td>\n",
       "      <td>117,106,881</td>\n",
       "      <td>1,889,995,958</td>\n",
       "      <td>19,456</td>\n",
       "      <td>13,685</td>\n",
       "      <td>dicrocoelium_dendriticum_PRJEB44434</td>\n",
       "    </tr>\n",
       "  </tbody>\n",
       "</table>\n",
       "</div>"
      ],
      "text/plain": [
       "                     Species Name  \\\n",
       "0  Atriophallophorus winterbourni   \n",
       "1             Clonorchis sinensis   \n",
       "2             Clonorchis sinensis   \n",
       "3         Dibothriocephalus latus   \n",
       "4        Dicrocoelium dendriticum   \n",
       "\n",
       "                                          Provider                 Assembly  \\\n",
       "0  Swiss Federal Institute of Technology in Zurich             ASM1340708v1   \n",
       "1                           Sun Yat-sen University           C_sinensis-2.0   \n",
       "2                      The University of Melbourne                  CSKR.v2   \n",
       "3                        Wellcome Sanger Institute  D_latum_Geneva_0011_upd   \n",
       "4                        Wellcome Sanger Institute             tdDicDend1.1   \n",
       "\n",
       "  BioProject ID                Clade     Genome Browser          N50  \\\n",
       "0   PRJNA636673   Trematoda (Flukes)  JBrowse | Ensembl       39,978   \n",
       "1    PRJDA72781   Trematoda (Flukes)  JBrowse | Ensembl      415,842   \n",
       "2   PRJNA386618   Trematoda (Flukes)  JBrowse | Ensembl  168,711,085   \n",
       "3     PRJEB1206  Cestoda (Tapeworms)  JBrowse | Ensembl        6,726   \n",
       "4    PRJEB44434   Trematoda (Flukes)  JBrowse | Ensembl  117,106,881   \n",
       "\n",
       "     Genome Size Number of Scaffolds Number of Coding Genes  \\\n",
       "0    601,728,533              26,114                 11,499   \n",
       "1    547,288,241               4,348                 13,634   \n",
       "2    558,124,894                  78                 13,489   \n",
       "3    531,434,409             140,294                 19,966   \n",
       "4  1,889,995,958              19,456                 13,685   \n",
       "\n",
       "                                        label  \n",
       "0  atriophallophorus_winterbourni_PRJNA636673  \n",
       "1              clonorchis_sinensis_PRJDA72781  \n",
       "2             clonorchis_sinensis_PRJNA386618  \n",
       "3           dibothriocephalus_latus_PRJEB1206  \n",
       "4         dicrocoelium_dendriticum_PRJEB44434  "
      ]
     },
     "execution_count": 4,
     "metadata": {},
     "output_type": "execute_result"
    }
   ],
   "source": [
    "platys_data.head()"
   ]
  },
  {
   "cell_type": "markdown",
   "id": "cf6d1bd2-61ca-456a-9947-9af1c3f5ad80",
   "metadata": {},
   "source": [
    "# Renaming set of proteins"
   ]
  },
  {
   "cell_type": "code",
   "execution_count": null,
   "id": "fa117d6b-0906-4ceb-a40b-92cd59ae6930",
   "metadata": {},
   "outputs": [],
   "source": [
    "# create species to code dictionary\n",
    "species2code = {species: species.split(' ')[0][0]+species.split(' ')[1][0:3].lower() for species in platys_data['Species Name'].to_list()} # create a dictionary species-code\n",
    "# load all proteins into a dictionary (label as key, Biopython SeqRecord as object)\n",
    "# rename all proteins using the codes in species2code dic\n",
    "# each protein is named as <code>.<num>, increasing number from 1 to n (n = proteome size)"
   ]
  },
  {
   "cell_type": "code",
   "execution_count": 16,
   "id": "a7417406-466c-4644-a0e7-8907289dd17e",
   "metadata": {},
   "outputs": [],
   "source": [
    "import glob, gzip\n",
    "from Bio import SeqIO\n",
    "\n",
    "# create species to code dictionary\n",
    "species2code = {species: species.split(' ')[0][0]+species.split(' ')[1][0:3].lower() for species in platys_data['Species Name'].to_list()}\n",
    "# Create an empty list to store original and new protein names\n",
    "correlation_data = []\n",
    "# Load all proteins into a dictionary\n",
    "protein_dict = {}\n",
    "\n",
    "protein_files = glob.glob('../data/platyhelminthes_dataset_vfinal/*.fa.gz')\n",
    "for file in protein_files:\n",
    "    species_name = file.rpartition('/')[2].split('.')[0].split('_')[0].title() + ' ' + file.rpartition('/')[2].split('.')[0].split('_')[1]\n",
    "    code = species2code.get(species_name)\n",
    "    if code:\n",
    "        with gzip.open(file, 'rt') as f:\n",
    "            records = SeqIO.parse(f, \"fasta\")\n",
    "            for i, record in enumerate(records, start=1):\n",
    "                original_name = record.id\n",
    "                new_name = f\"{code}.{i}\"\n",
    "                correlation_data.append({'Original Name': original_name, 'New Name': new_name})\n",
    "                record.id = new_name\n",
    "                record.name = new_name\n",
    "                record.description = new_name\n",
    "                protein_dict[new_name] = record\n"
   ]
  },
  {
   "cell_type": "code",
   "execution_count": 19,
   "id": "83bc2632-4e65-4fc8-ac8c-9a05f91f4964",
   "metadata": {},
   "outputs": [],
   "source": [
    "# creating a correlation table to save\n",
    "original2new = pd.DataFrame.from_dict(correlation_data)"
   ]
  },
  {
   "cell_type": "markdown",
   "id": "b72d2bbd-c7ba-40c0-b8b0-4d55df03157a",
   "metadata": {},
   "source": [
    "# Filtering by isoform length"
   ]
  },
  {
   "cell_type": "code",
   "execution_count": 36,
   "id": "9d7c6a6d-517d-4d48-8996-acc843ca3f05",
   "metadata": {},
   "outputs": [
    {
     "name": "stderr",
     "output_type": "stream",
     "text": [
      "  4%|████▌                                                                                                         | 1/24 [00:17<06:53, 17.96s/it]"
     ]
    },
    {
     "name": "stdout",
     "output_type": "stream",
     "text": [
      "Error reading file ../data/platyhelminthes_dataset_vfinal/clonorchis_sinensis.PRJDA72781.WBPS18.annotations.gff3.gz: Compressed file ended before the end-of-stream marker was reached\n"
     ]
    },
    {
     "name": "stderr",
     "output_type": "stream",
     "text": [
      "100%|█████████████████████████████████████████████████████████████████████████████████████████████████████████████| 24/24 [16:33<00:00, 41.40s/it]\n"
     ]
    },
    {
     "name": "stdout",
     "output_type": "stream",
     "text": [
      "Done with selecting isoforms!\n"
     ]
    }
   ],
   "source": [
    "import glob, tqdm\n",
    "import pandas as pd\n",
    "from BCBio import GFF\n",
    "\n",
    "# Create a dictionary to store the longest isoforms for each protein\n",
    "longest_isoforms = {}\n",
    "\n",
    "# Iterate over GFF3 files\n",
    "gff3_files = glob.glob('../data/platyhelminthes_dataset_vfinal/*gff3*')\n",
    "\n",
    "for file in tqdm.tqdm(gff3_files):\n",
    "    try:\n",
    "        with gzip.open(file, 'rt', encoding='latin1') as f:  # Open with 'latin1' encoding\n",
    "            for rec in GFF.parse(f):\n",
    "                for feature in rec.features:\n",
    "                    if 'mRNA' in feature.type:\n",
    "                        attributes = feature.qualifiers\n",
    "                        protein_id = attributes.get('protein_id')\n",
    "                        if protein_id:\n",
    "                            # Convert protein_id to new code\n",
    "                            species_name = attributes.get('species')\n",
    "                            species_code = species2code.get(species_name)\n",
    "                            new_protein_id = f\"{species_code}.{protein_id}\"\n",
    "                            \n",
    "                            start = feature.location.start.position\n",
    "                            end = feature.location.end.position\n",
    "                            length = end - start + 1\n",
    "                            if new_protein_id not in longest_isoforms or length > longest_isoforms[new_protein_id]['length']:\n",
    "                                longest_isoforms[new_protein_id] = {'start': start, 'end': end, 'length': length}\n",
    "    except EOFError as e:\n",
    "        print(f\"Error reading file {file}: {e}\")\n",
    "\n",
    "print('Done with selecting isoforms!')\n",
    "\n",
    "# Create a DataFrame for original to new protein IDs correlation\n",
    "original2new = pd.DataFrame.from_dict(correlation_data)\n",
    "\n",
    "# Create a dictionary to store the selected isoforms\n",
    "selected_isoforms = {}\n",
    "\n",
    "# Iterate over longest isoforms and get the corresponding protein names\n",
    "for protein_id, info in longest_isoforms.items():\n",
    "    original_protein_id = original2new.loc[original2new['New Code'] == protein_id.split('.')[0], 'Original Code'].values[0]\n",
    "    selected_isoforms[original_protein_id] = protein_id\n",
    "\n",
    "# Now 'selected_isoforms' dictionary contains the selected isoforms for each protein name.\n"
   ]
  },
  {
   "cell_type": "code",
   "execution_count": 40,
   "id": "2c6958a9-9867-4fad-8e92-4bfe093b0cc6",
   "metadata": {},
   "outputs": [
    {
     "data": {
      "text/plain": [
       "{}"
      ]
     },
     "execution_count": 40,
     "metadata": {},
     "output_type": "execute_result"
    }
   ],
   "source": [
    "# Create a dictionary to store the longest isoforms for each protein\n",
    "longest_isoforms = {}\n",
    "\n",
    "# Iterate over GFF3 files\n",
    "gff3_files = glob.glob('../data/platyhelminthes_dataset_vfinal/*gff3*')\n",
    "\n",
    "for file in tqdm.tqdm(gff3_files):\n",
    "    try:\n",
    "        with gzip.open(file, 'rt', encoding='latin1') as f:  # Open with 'latin1' encoding\n",
    "            for rec in GFF.parse(f):\n",
    "                for feature in rec.features:"
   ]
  },
  {
   "cell_type": "code",
   "execution_count": 1,
   "id": "d65da895-6612-4577-bc08-9eb2fac33d27",
   "metadata": {},
   "outputs": [],
   "source": [
    "import rpy2"
   ]
  },
  {
   "cell_type": "markdown",
   "id": "54764934-ed36-417c-9043-12a8ed22f607",
   "metadata": {},
   "source": [
    "https://drostlab.github.io/orthologr/reference/retrieve_longest_isoforms.html"
   ]
  },
  {
   "cell_type": "code",
   "execution_count": 2,
   "id": "0fd9f700-3f4e-4349-93e1-4783caa9cf09",
   "metadata": {},
   "outputs": [],
   "source": [
    "%load_ext rpy2.ipython"
   ]
  },
  {
   "cell_type": "code",
   "execution_count": null,
   "id": "c2d351e5-e935-423b-8adf-31ba52eb6e2d",
   "metadata": {},
   "outputs": [],
   "source": []
  },
  {
   "cell_type": "code",
   "execution_count": 4,
   "id": "506e7e96-a226-4142-bc75-516fe6a6eb9e",
   "metadata": {
    "scrolled": true,
    "tags": []
   },
   "outputs": [
    {
     "name": "stderr",
     "output_type": "stream",
     "text": [
      "R[write to console]: Error in library(BiocManager) : there is no package called ‘BiocManager’\n",
      "\n"
     ]
    },
    {
     "name": "stdout",
     "output_type": "stream",
     "text": [
      "\n",
      "Error in library(BiocManager) : there is no package called ‘BiocManager’\n"
     ]
    },
    {
     "ename": "RInterpreterError",
     "evalue": "Failed to parse and evaluate line '\\n# Install Bioconductor\\nlibrary(BiocManager)\\n\\n# Install package dependencies\\nBiocManager::install(c(\\n        \"Biostrings\",\\n        \"GenomicRanges\",\\n        \"GenomicFeatures\",\\n        \"Rsamtools\",\\n        \"rtracklayer\"\\n))\\n\\n# install CRAN dependencies\\ninstall.packages(c(\"doParallel\", \"foreach\", \"ape\", \"Rdpack\", \"benchmarkme\", \"devtools\"))\\n\\n# install BLAST dependency metablastr from GitHub\\ndevtools::install_github(\"drostlab/metablastr\")\\n\\n# install DIAMOND dependency rdiamond from GitHub\\ndevtools::install_github(\"drostlab/rdiamond\")\\n\\n# install orthologr from GitHub\\ndevtools::install_github(\"drostlab/orthologr\")\\n'.\nR error message: 'Error in library(BiocManager) : there is no package called ‘BiocManager’'",
     "output_type": "error",
     "traceback": [
      "\u001b[0;31m---------------------------------------------------------------------------\u001b[0m",
      "\u001b[0;31mRRuntimeError\u001b[0m                             Traceback (most recent call last)",
      "\u001b[0;32m~/anaconda3/envs/jupiteriano/lib/python3.9/site-packages/rpy2/ipython/rmagic.py\u001b[0m in \u001b[0;36meval\u001b[0;34m(self, code)\u001b[0m\n\u001b[1;32m    267\u001b[0m                 \u001b[0;31m# Need the newline in case the last line in code is a comment.\u001b[0m\u001b[0;34m\u001b[0m\u001b[0;34m\u001b[0m\u001b[0;34m\u001b[0m\u001b[0m\n\u001b[0;32m--> 268\u001b[0;31m                 \u001b[0mvalue\u001b[0m\u001b[0;34m,\u001b[0m \u001b[0mvisible\u001b[0m \u001b[0;34m=\u001b[0m \u001b[0mro\u001b[0m\u001b[0;34m.\u001b[0m\u001b[0mr\u001b[0m\u001b[0;34m(\u001b[0m\u001b[0;34m\"withVisible({%s\\n})\"\u001b[0m \u001b[0;34m%\u001b[0m \u001b[0mcode\u001b[0m\u001b[0;34m)\u001b[0m\u001b[0;34m\u001b[0m\u001b[0;34m\u001b[0m\u001b[0m\n\u001b[0m\u001b[1;32m    269\u001b[0m             \u001b[0;32mexcept\u001b[0m \u001b[0;34m(\u001b[0m\u001b[0mri\u001b[0m\u001b[0;34m.\u001b[0m\u001b[0membedded\u001b[0m\u001b[0;34m.\u001b[0m\u001b[0mRRuntimeError\u001b[0m\u001b[0;34m,\u001b[0m \u001b[0mValueError\u001b[0m\u001b[0;34m)\u001b[0m \u001b[0;32mas\u001b[0m \u001b[0mexception\u001b[0m\u001b[0;34m:\u001b[0m\u001b[0;34m\u001b[0m\u001b[0;34m\u001b[0m\u001b[0m\n",
      "\u001b[0;32m~/anaconda3/envs/jupiteriano/lib/python3.9/site-packages/rpy2/robjects/__init__.py\u001b[0m in \u001b[0;36m__call__\u001b[0;34m(self, string)\u001b[0m\n\u001b[1;32m    437\u001b[0m         \u001b[0mp\u001b[0m \u001b[0;34m=\u001b[0m \u001b[0mrinterface\u001b[0m\u001b[0;34m.\u001b[0m\u001b[0mparse\u001b[0m\u001b[0;34m(\u001b[0m\u001b[0mstring\u001b[0m\u001b[0;34m)\u001b[0m\u001b[0;34m\u001b[0m\u001b[0;34m\u001b[0m\u001b[0m\n\u001b[0;32m--> 438\u001b[0;31m         \u001b[0mres\u001b[0m \u001b[0;34m=\u001b[0m \u001b[0mself\u001b[0m\u001b[0;34m.\u001b[0m\u001b[0meval\u001b[0m\u001b[0;34m(\u001b[0m\u001b[0mp\u001b[0m\u001b[0;34m)\u001b[0m\u001b[0;34m\u001b[0m\u001b[0;34m\u001b[0m\u001b[0m\n\u001b[0m\u001b[1;32m    439\u001b[0m         \u001b[0;32mreturn\u001b[0m \u001b[0mconversion\u001b[0m\u001b[0;34m.\u001b[0m\u001b[0mrpy2py\u001b[0m\u001b[0;34m(\u001b[0m\u001b[0mres\u001b[0m\u001b[0;34m)\u001b[0m\u001b[0;34m\u001b[0m\u001b[0;34m\u001b[0m\u001b[0m\n",
      "\u001b[0;32m~/anaconda3/envs/jupiteriano/lib/python3.9/site-packages/rpy2/robjects/functions.py\u001b[0m in \u001b[0;36m__call__\u001b[0;34m(self, *args, **kwargs)\u001b[0m\n\u001b[1;32m    197\u001b[0m                 \u001b[0mkwargs\u001b[0m\u001b[0;34m[\u001b[0m\u001b[0mr_k\u001b[0m\u001b[0;34m]\u001b[0m \u001b[0;34m=\u001b[0m \u001b[0mv\u001b[0m\u001b[0;34m\u001b[0m\u001b[0;34m\u001b[0m\u001b[0m\n\u001b[0;32m--> 198\u001b[0;31m         return (super(SignatureTranslatedFunction, self)\n\u001b[0m\u001b[1;32m    199\u001b[0m                 .__call__(*args, **kwargs))\n",
      "\u001b[0;32m~/anaconda3/envs/jupiteriano/lib/python3.9/site-packages/rpy2/robjects/functions.py\u001b[0m in \u001b[0;36m__call__\u001b[0;34m(self, *args, **kwargs)\u001b[0m\n\u001b[1;32m    124\u001b[0m                 \u001b[0mnew_kwargs\u001b[0m\u001b[0;34m[\u001b[0m\u001b[0mk\u001b[0m\u001b[0;34m]\u001b[0m \u001b[0;34m=\u001b[0m \u001b[0mconversion\u001b[0m\u001b[0;34m.\u001b[0m\u001b[0mpy2rpy\u001b[0m\u001b[0;34m(\u001b[0m\u001b[0mv\u001b[0m\u001b[0;34m)\u001b[0m\u001b[0;34m\u001b[0m\u001b[0;34m\u001b[0m\u001b[0m\n\u001b[0;32m--> 125\u001b[0;31m         \u001b[0mres\u001b[0m \u001b[0;34m=\u001b[0m \u001b[0msuper\u001b[0m\u001b[0;34m(\u001b[0m\u001b[0mFunction\u001b[0m\u001b[0;34m,\u001b[0m \u001b[0mself\u001b[0m\u001b[0;34m)\u001b[0m\u001b[0;34m.\u001b[0m\u001b[0m__call__\u001b[0m\u001b[0;34m(\u001b[0m\u001b[0;34m*\u001b[0m\u001b[0mnew_args\u001b[0m\u001b[0;34m,\u001b[0m \u001b[0;34m**\u001b[0m\u001b[0mnew_kwargs\u001b[0m\u001b[0;34m)\u001b[0m\u001b[0;34m\u001b[0m\u001b[0;34m\u001b[0m\u001b[0m\n\u001b[0m\u001b[1;32m    126\u001b[0m         \u001b[0mres\u001b[0m \u001b[0;34m=\u001b[0m \u001b[0mconversion\u001b[0m\u001b[0;34m.\u001b[0m\u001b[0mrpy2py\u001b[0m\u001b[0;34m(\u001b[0m\u001b[0mres\u001b[0m\u001b[0;34m)\u001b[0m\u001b[0;34m\u001b[0m\u001b[0;34m\u001b[0m\u001b[0m\n",
      "\u001b[0;32m~/anaconda3/envs/jupiteriano/lib/python3.9/site-packages/rpy2/rinterface_lib/conversion.py\u001b[0m in \u001b[0;36m_\u001b[0;34m(*args, **kwargs)\u001b[0m\n\u001b[1;32m     44\u001b[0m     \u001b[0;32mdef\u001b[0m \u001b[0m_\u001b[0m\u001b[0;34m(\u001b[0m\u001b[0;34m*\u001b[0m\u001b[0margs\u001b[0m\u001b[0;34m,\u001b[0m \u001b[0;34m**\u001b[0m\u001b[0mkwargs\u001b[0m\u001b[0;34m)\u001b[0m\u001b[0;34m:\u001b[0m\u001b[0;34m\u001b[0m\u001b[0;34m\u001b[0m\u001b[0m\n\u001b[0;32m---> 45\u001b[0;31m         \u001b[0mcdata\u001b[0m \u001b[0;34m=\u001b[0m \u001b[0mfunction\u001b[0m\u001b[0;34m(\u001b[0m\u001b[0;34m*\u001b[0m\u001b[0margs\u001b[0m\u001b[0;34m,\u001b[0m \u001b[0;34m**\u001b[0m\u001b[0mkwargs\u001b[0m\u001b[0;34m)\u001b[0m\u001b[0;34m\u001b[0m\u001b[0;34m\u001b[0m\u001b[0m\n\u001b[0m\u001b[1;32m     46\u001b[0m         \u001b[0;31m# TODO: test cdata is of the expected CType\u001b[0m\u001b[0;34m\u001b[0m\u001b[0;34m\u001b[0m\u001b[0;34m\u001b[0m\u001b[0m\n",
      "\u001b[0;32m~/anaconda3/envs/jupiteriano/lib/python3.9/site-packages/rpy2/rinterface.py\u001b[0m in \u001b[0;36m__call__\u001b[0;34m(self, *args, **kwargs)\u001b[0m\n\u001b[1;32m    679\u001b[0m             \u001b[0;32mif\u001b[0m \u001b[0merror_occured\u001b[0m\u001b[0;34m[\u001b[0m\u001b[0;36m0\u001b[0m\u001b[0;34m]\u001b[0m\u001b[0;34m:\u001b[0m\u001b[0;34m\u001b[0m\u001b[0;34m\u001b[0m\u001b[0m\n\u001b[0;32m--> 680\u001b[0;31m                 \u001b[0;32mraise\u001b[0m \u001b[0membedded\u001b[0m\u001b[0;34m.\u001b[0m\u001b[0mRRuntimeError\u001b[0m\u001b[0;34m(\u001b[0m\u001b[0m_rinterface\u001b[0m\u001b[0;34m.\u001b[0m\u001b[0m_geterrmessage\u001b[0m\u001b[0;34m(\u001b[0m\u001b[0;34m)\u001b[0m\u001b[0;34m)\u001b[0m\u001b[0;34m\u001b[0m\u001b[0;34m\u001b[0m\u001b[0m\n\u001b[0m\u001b[1;32m    681\u001b[0m         \u001b[0;32mreturn\u001b[0m \u001b[0mres\u001b[0m\u001b[0;34m\u001b[0m\u001b[0;34m\u001b[0m\u001b[0m\n",
      "\u001b[0;31mRRuntimeError\u001b[0m: Error in library(BiocManager) : there is no package called ‘BiocManager’\n",
      "\nDuring handling of the above exception, another exception occurred:\n",
      "\u001b[0;31mRInterpreterError\u001b[0m                         Traceback (most recent call last)",
      "\u001b[0;32m<ipython-input-4-04d61f4fdcd6>\u001b[0m in \u001b[0;36m<module>\u001b[0;34m\u001b[0m\n\u001b[0;32m----> 1\u001b[0;31m \u001b[0mget_ipython\u001b[0m\u001b[0;34m(\u001b[0m\u001b[0;34m)\u001b[0m\u001b[0;34m.\u001b[0m\u001b[0mrun_cell_magic\u001b[0m\u001b[0;34m(\u001b[0m\u001b[0;34m'R'\u001b[0m\u001b[0;34m,\u001b[0m \u001b[0;34m''\u001b[0m\u001b[0;34m,\u001b[0m \u001b[0;34m'\\n# Install Bioconductor\\nlibrary(BiocManager)\\n\\n# Install package dependencies\\nBiocManager::install(c(\\n        \"Biostrings\",\\n        \"GenomicRanges\",\\n        \"GenomicFeatures\",\\n        \"Rsamtools\",\\n        \"rtracklayer\"\\n))\\n\\n# install CRAN dependencies\\ninstall.packages(c(\"doParallel\", \"foreach\", \"ape\", \"Rdpack\", \"benchmarkme\", \"devtools\"))\\n\\n# install BLAST dependency metablastr from GitHub\\ndevtools::install_github(\"drostlab/metablastr\")\\n\\n# install DIAMOND dependency rdiamond from GitHub\\ndevtools::install_github(\"drostlab/rdiamond\")\\n\\n# install orthologr from GitHub\\ndevtools::install_github(\"drostlab/orthologr\")\\n'\u001b[0m\u001b[0;34m)\u001b[0m\u001b[0;34m\u001b[0m\u001b[0;34m\u001b[0m\u001b[0m\n\u001b[0m",
      "\u001b[0;32m~/anaconda3/envs/jupiteriano/lib/python3.9/site-packages/IPython/core/interactiveshell.py\u001b[0m in \u001b[0;36mrun_cell_magic\u001b[0;34m(self, magic_name, line, cell)\u001b[0m\n\u001b[1;32m   2401\u001b[0m             \u001b[0;32mwith\u001b[0m \u001b[0mself\u001b[0m\u001b[0;34m.\u001b[0m\u001b[0mbuiltin_trap\u001b[0m\u001b[0;34m:\u001b[0m\u001b[0;34m\u001b[0m\u001b[0;34m\u001b[0m\u001b[0m\n\u001b[1;32m   2402\u001b[0m                 \u001b[0margs\u001b[0m \u001b[0;34m=\u001b[0m \u001b[0;34m(\u001b[0m\u001b[0mmagic_arg_s\u001b[0m\u001b[0;34m,\u001b[0m \u001b[0mcell\u001b[0m\u001b[0;34m)\u001b[0m\u001b[0;34m\u001b[0m\u001b[0;34m\u001b[0m\u001b[0m\n\u001b[0;32m-> 2403\u001b[0;31m                 \u001b[0mresult\u001b[0m \u001b[0;34m=\u001b[0m \u001b[0mfn\u001b[0m\u001b[0;34m(\u001b[0m\u001b[0;34m*\u001b[0m\u001b[0margs\u001b[0m\u001b[0;34m,\u001b[0m \u001b[0;34m**\u001b[0m\u001b[0mkwargs\u001b[0m\u001b[0;34m)\u001b[0m\u001b[0;34m\u001b[0m\u001b[0;34m\u001b[0m\u001b[0m\n\u001b[0m\u001b[1;32m   2404\u001b[0m             \u001b[0;32mreturn\u001b[0m \u001b[0mresult\u001b[0m\u001b[0;34m\u001b[0m\u001b[0;34m\u001b[0m\u001b[0m\n\u001b[1;32m   2405\u001b[0m \u001b[0;34m\u001b[0m\u001b[0m\n",
      "\u001b[0;32m~/anaconda3/envs/jupiteriano/lib/python3.9/site-packages/decorator.py\u001b[0m in \u001b[0;36mfun\u001b[0;34m(*args, **kw)\u001b[0m\n\u001b[1;32m    230\u001b[0m             \u001b[0;32mif\u001b[0m \u001b[0;32mnot\u001b[0m \u001b[0mkwsyntax\u001b[0m\u001b[0;34m:\u001b[0m\u001b[0;34m\u001b[0m\u001b[0;34m\u001b[0m\u001b[0m\n\u001b[1;32m    231\u001b[0m                 \u001b[0margs\u001b[0m\u001b[0;34m,\u001b[0m \u001b[0mkw\u001b[0m \u001b[0;34m=\u001b[0m \u001b[0mfix\u001b[0m\u001b[0;34m(\u001b[0m\u001b[0margs\u001b[0m\u001b[0;34m,\u001b[0m \u001b[0mkw\u001b[0m\u001b[0;34m,\u001b[0m \u001b[0msig\u001b[0m\u001b[0;34m)\u001b[0m\u001b[0;34m\u001b[0m\u001b[0;34m\u001b[0m\u001b[0m\n\u001b[0;32m--> 232\u001b[0;31m             \u001b[0;32mreturn\u001b[0m \u001b[0mcaller\u001b[0m\u001b[0;34m(\u001b[0m\u001b[0mfunc\u001b[0m\u001b[0;34m,\u001b[0m \u001b[0;34m*\u001b[0m\u001b[0;34m(\u001b[0m\u001b[0mextras\u001b[0m \u001b[0;34m+\u001b[0m \u001b[0margs\u001b[0m\u001b[0;34m)\u001b[0m\u001b[0;34m,\u001b[0m \u001b[0;34m**\u001b[0m\u001b[0mkw\u001b[0m\u001b[0;34m)\u001b[0m\u001b[0;34m\u001b[0m\u001b[0;34m\u001b[0m\u001b[0m\n\u001b[0m\u001b[1;32m    233\u001b[0m     \u001b[0mfun\u001b[0m\u001b[0;34m.\u001b[0m\u001b[0m__name__\u001b[0m \u001b[0;34m=\u001b[0m \u001b[0mfunc\u001b[0m\u001b[0;34m.\u001b[0m\u001b[0m__name__\u001b[0m\u001b[0;34m\u001b[0m\u001b[0;34m\u001b[0m\u001b[0m\n\u001b[1;32m    234\u001b[0m     \u001b[0mfun\u001b[0m\u001b[0;34m.\u001b[0m\u001b[0m__doc__\u001b[0m \u001b[0;34m=\u001b[0m \u001b[0mfunc\u001b[0m\u001b[0;34m.\u001b[0m\u001b[0m__doc__\u001b[0m\u001b[0;34m\u001b[0m\u001b[0;34m\u001b[0m\u001b[0m\n",
      "\u001b[0;32m~/anaconda3/envs/jupiteriano/lib/python3.9/site-packages/IPython/core/magic.py\u001b[0m in \u001b[0;36m<lambda>\u001b[0;34m(f, *a, **k)\u001b[0m\n\u001b[1;32m    185\u001b[0m     \u001b[0;31m# but it's overkill for just that one bit of state.\u001b[0m\u001b[0;34m\u001b[0m\u001b[0;34m\u001b[0m\u001b[0;34m\u001b[0m\u001b[0m\n\u001b[1;32m    186\u001b[0m     \u001b[0;32mdef\u001b[0m \u001b[0mmagic_deco\u001b[0m\u001b[0;34m(\u001b[0m\u001b[0marg\u001b[0m\u001b[0;34m)\u001b[0m\u001b[0;34m:\u001b[0m\u001b[0;34m\u001b[0m\u001b[0;34m\u001b[0m\u001b[0m\n\u001b[0;32m--> 187\u001b[0;31m         \u001b[0mcall\u001b[0m \u001b[0;34m=\u001b[0m \u001b[0;32mlambda\u001b[0m \u001b[0mf\u001b[0m\u001b[0;34m,\u001b[0m \u001b[0;34m*\u001b[0m\u001b[0ma\u001b[0m\u001b[0;34m,\u001b[0m \u001b[0;34m**\u001b[0m\u001b[0mk\u001b[0m\u001b[0;34m:\u001b[0m \u001b[0mf\u001b[0m\u001b[0;34m(\u001b[0m\u001b[0;34m*\u001b[0m\u001b[0ma\u001b[0m\u001b[0;34m,\u001b[0m \u001b[0;34m**\u001b[0m\u001b[0mk\u001b[0m\u001b[0;34m)\u001b[0m\u001b[0;34m\u001b[0m\u001b[0;34m\u001b[0m\u001b[0m\n\u001b[0m\u001b[1;32m    188\u001b[0m \u001b[0;34m\u001b[0m\u001b[0m\n\u001b[1;32m    189\u001b[0m         \u001b[0;32mif\u001b[0m \u001b[0mcallable\u001b[0m\u001b[0;34m(\u001b[0m\u001b[0marg\u001b[0m\u001b[0;34m)\u001b[0m\u001b[0;34m:\u001b[0m\u001b[0;34m\u001b[0m\u001b[0;34m\u001b[0m\u001b[0m\n",
      "\u001b[0;32m~/anaconda3/envs/jupiteriano/lib/python3.9/site-packages/rpy2/ipython/rmagic.py\u001b[0m in \u001b[0;36mR\u001b[0;34m(self, line, cell, local_ns)\u001b[0m\n\u001b[1;32m    781\u001b[0m             \u001b[0;32mif\u001b[0m \u001b[0;32mnot\u001b[0m \u001b[0me\u001b[0m\u001b[0;34m.\u001b[0m\u001b[0mstdout\u001b[0m\u001b[0;34m.\u001b[0m\u001b[0mendswith\u001b[0m\u001b[0;34m(\u001b[0m\u001b[0me\u001b[0m\u001b[0;34m.\u001b[0m\u001b[0merr\u001b[0m\u001b[0;34m)\u001b[0m\u001b[0;34m:\u001b[0m\u001b[0;34m\u001b[0m\u001b[0;34m\u001b[0m\u001b[0m\n\u001b[1;32m    782\u001b[0m                 \u001b[0mprint\u001b[0m\u001b[0;34m(\u001b[0m\u001b[0me\u001b[0m\u001b[0;34m.\u001b[0m\u001b[0merr\u001b[0m\u001b[0;34m)\u001b[0m\u001b[0;34m\u001b[0m\u001b[0;34m\u001b[0m\u001b[0m\n\u001b[0;32m--> 783\u001b[0;31m             \u001b[0;32mraise\u001b[0m \u001b[0me\u001b[0m\u001b[0;34m\u001b[0m\u001b[0;34m\u001b[0m\u001b[0m\n\u001b[0m\u001b[1;32m    784\u001b[0m         \u001b[0;32mfinally\u001b[0m\u001b[0;34m:\u001b[0m\u001b[0;34m\u001b[0m\u001b[0;34m\u001b[0m\u001b[0m\n\u001b[1;32m    785\u001b[0m             \u001b[0;32mif\u001b[0m \u001b[0mself\u001b[0m\u001b[0;34m.\u001b[0m\u001b[0mdevice\u001b[0m \u001b[0;32min\u001b[0m \u001b[0;34m[\u001b[0m\u001b[0;34m'png'\u001b[0m\u001b[0;34m,\u001b[0m \u001b[0;34m'svg'\u001b[0m\u001b[0;34m]\u001b[0m\u001b[0;34m:\u001b[0m\u001b[0;34m\u001b[0m\u001b[0;34m\u001b[0m\u001b[0m\n",
      "\u001b[0;32m~/anaconda3/envs/jupiteriano/lib/python3.9/site-packages/rpy2/ipython/rmagic.py\u001b[0m in \u001b[0;36mR\u001b[0;34m(self, line, cell, local_ns)\u001b[0m\n\u001b[1;32m    761\u001b[0m                     \u001b[0mreturn_output\u001b[0m \u001b[0;34m=\u001b[0m \u001b[0;32mFalse\u001b[0m\u001b[0;34m\u001b[0m\u001b[0;34m\u001b[0m\u001b[0m\n\u001b[1;32m    762\u001b[0m             \u001b[0;32melse\u001b[0m\u001b[0;34m:\u001b[0m\u001b[0;34m\u001b[0m\u001b[0;34m\u001b[0m\u001b[0m\n\u001b[0;32m--> 763\u001b[0;31m                 \u001b[0mtext_result\u001b[0m\u001b[0;34m,\u001b[0m \u001b[0mresult\u001b[0m\u001b[0;34m,\u001b[0m \u001b[0mvisible\u001b[0m \u001b[0;34m=\u001b[0m \u001b[0mself\u001b[0m\u001b[0;34m.\u001b[0m\u001b[0meval\u001b[0m\u001b[0;34m(\u001b[0m\u001b[0mcode\u001b[0m\u001b[0;34m)\u001b[0m\u001b[0;34m\u001b[0m\u001b[0;34m\u001b[0m\u001b[0m\n\u001b[0m\u001b[1;32m    764\u001b[0m                 \u001b[0mtext_output\u001b[0m \u001b[0;34m+=\u001b[0m \u001b[0mtext_result\u001b[0m\u001b[0;34m\u001b[0m\u001b[0;34m\u001b[0m\u001b[0m\n\u001b[1;32m    765\u001b[0m                 \u001b[0;32mif\u001b[0m \u001b[0mvisible\u001b[0m\u001b[0;34m:\u001b[0m\u001b[0;34m\u001b[0m\u001b[0;34m\u001b[0m\u001b[0m\n",
      "\u001b[0;32m~/anaconda3/envs/jupiteriano/lib/python3.9/site-packages/rpy2/ipython/rmagic.py\u001b[0m in \u001b[0;36meval\u001b[0;34m(self, code)\u001b[0m\n\u001b[1;32m    270\u001b[0m                 \u001b[0;31m# Otherwise next return seems to have copy of error.\u001b[0m\u001b[0;34m\u001b[0m\u001b[0;34m\u001b[0m\u001b[0;34m\u001b[0m\u001b[0m\n\u001b[1;32m    271\u001b[0m                 \u001b[0mwarning_or_other_msg\u001b[0m \u001b[0;34m=\u001b[0m \u001b[0mself\u001b[0m\u001b[0;34m.\u001b[0m\u001b[0mflush\u001b[0m\u001b[0;34m(\u001b[0m\u001b[0;34m)\u001b[0m\u001b[0;34m\u001b[0m\u001b[0;34m\u001b[0m\u001b[0m\n\u001b[0;32m--> 272\u001b[0;31m                 raise RInterpreterError(code, str(exception),\n\u001b[0m\u001b[1;32m    273\u001b[0m                                         warning_or_other_msg)\n\u001b[1;32m    274\u001b[0m             \u001b[0mtext_output\u001b[0m \u001b[0;34m=\u001b[0m \u001b[0mself\u001b[0m\u001b[0;34m.\u001b[0m\u001b[0mflush\u001b[0m\u001b[0;34m(\u001b[0m\u001b[0;34m)\u001b[0m\u001b[0;34m\u001b[0m\u001b[0;34m\u001b[0m\u001b[0m\n",
      "\u001b[0;31mRInterpreterError\u001b[0m: Failed to parse and evaluate line '\\n# Install Bioconductor\\nlibrary(BiocManager)\\n\\n# Install package dependencies\\nBiocManager::install(c(\\n        \"Biostrings\",\\n        \"GenomicRanges\",\\n        \"GenomicFeatures\",\\n        \"Rsamtools\",\\n        \"rtracklayer\"\\n))\\n\\n# install CRAN dependencies\\ninstall.packages(c(\"doParallel\", \"foreach\", \"ape\", \"Rdpack\", \"benchmarkme\", \"devtools\"))\\n\\n# install BLAST dependency metablastr from GitHub\\ndevtools::install_github(\"drostlab/metablastr\")\\n\\n# install DIAMOND dependency rdiamond from GitHub\\ndevtools::install_github(\"drostlab/rdiamond\")\\n\\n# install orthologr from GitHub\\ndevtools::install_github(\"drostlab/orthologr\")\\n'.\nR error message: 'Error in library(BiocManager) : there is no package called ‘BiocManager’'"
     ]
    }
   ],
   "source": [
    "%%R \n",
    "\n",
    "# Install Bioconductor\n",
    "library(BiocManager)\n",
    "\n",
    "# Install package dependencies\n",
    "BiocManager::install(c(\n",
    "        \"Biostrings\",\n",
    "        \"GenomicRanges\",\n",
    "        \"GenomicFeatures\",\n",
    "        \"Rsamtools\",\n",
    "        \"rtracklayer\"\n",
    "))\n",
    "\n",
    "# install CRAN dependencies\n",
    "install.packages(c(\"doParallel\", \"foreach\", \"ape\", \"Rdpack\", \"benchmarkme\", \"devtools\"))\n",
    "\n",
    "# install BLAST dependency metablastr from GitHub\n",
    "devtools::install_github(\"drostlab/metablastr\")\n",
    "\n",
    "# install DIAMOND dependency rdiamond from GitHub\n",
    "devtools::install_github(\"drostlab/rdiamond\")\n",
    "\n",
    "# install orthologr from GitHub\n",
    "devtools::install_github(\"drostlab/orthologr\")"
   ]
  },
  {
   "cell_type": "markdown",
   "id": "531bfff5-8bb0-4c90-86b5-45b53197a569",
   "metadata": {},
   "source": [
    "# Homologues group inference\n",
    "Criteria: -"
   ]
  }
 ],
 "metadata": {
  "kernelspec": {
   "display_name": "Python 3",
   "language": "python",
   "name": "python3"
  },
  "language_info": {
   "codemirror_mode": {
    "name": "ipython",
    "version": 3
   },
   "file_extension": ".py",
   "mimetype": "text/x-python",
   "name": "python",
   "nbconvert_exporter": "python",
   "pygments_lexer": "ipython3",
   "version": "3.9.2"
  }
 },
 "nbformat": 4,
 "nbformat_minor": 5
}
