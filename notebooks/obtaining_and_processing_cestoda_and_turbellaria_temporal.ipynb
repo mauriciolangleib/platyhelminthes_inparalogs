{
 "cells": [
  {
   "cell_type": "markdown",
   "id": "4c2b5135-e492-4816-b8b4-ce204198a74b",
   "metadata": {},
   "source": [
    "# Overview\n",
    "Getting proteomes for Turbellaria and Cestoda for further analyses.\n",
    "\n",
    "___\n",
    "\n",
    "Running in Obdulio server\n",
    "\n",
    "___\n",
    "\n",
    "**Note**: this notebook might me temporal, or might be conserved in order to keep the valuable info of how this was got in a separate notebook"
   ]
  },
  {
   "cell_type": "markdown",
   "id": "a4f50bbf-4a2b-42cd-9fda-bc6cef93cb2d",
   "metadata": {},
   "source": [
    "# Creating relevant folders and getting raw files"
   ]
  },
  {
   "cell_type": "code",
   "execution_count": 1,
   "id": "8f064290-6b28-4fd1-b6aa-83755f7e14ef",
   "metadata": {},
   "outputs": [],
   "source": [
    "from ftplib import FTP # importing libraries\n",
    "import os, subprocess, glob\n",
    "\n",
    "def create_dir(dir): # define auxiliary function\n",
    "    if not os.path.exists(dir):\n",
    "        os.mkdir(dir)\n",
    "\n",
    "cestode_genome_species = ['Dibothriocephalus latus', 'Echinococcus canadensis', 'Echinococcus granulosus',\n",
    "                          'Echinococcus multilocularis', 'Echinococcus oligarthrus', 'Hydatigera taeniaeformis',\n",
    "                          'Hymenolepis diminuta', 'Hymenolepis microstoma', 'Hymenolepis nana',\n",
    "                          'Mesocestoides corti', 'Schistocephalus solidus', 'Spirometra erinaceieuropaei',\n",
    "                          'Taenia asiatica', 'Taenia multiceps', 'Taenia saginata', 'Taenia solium']\n",
    "\n",
    "monogenean_genome_species = ['Gyrodactylus salaris', 'Protopolystoma xenopodis'] # list of monogeneans\n",
    "turbellarian_genome_species = ['Macrostomum lignano', 'Schmidtea mediterranea'] # put list of turbellarians\n",
    "\n",
    "# create dir to allocate\n",
    "create_dir('../orthologous_groups/data/set_cestoda_monogenea_turbellaria')\n",
    "create_dir('../orthologous_groups/data/set_cestoda_monogenea_turbellaria/original_set')\n",
    "create_dir('../orthologous_groups/data/set_cestoda_monogenea_turbellaria/renamed_set')"
   ]
  },
  {
   "cell_type": "code",
   "execution_count": 2,
   "id": "49e04ebe-fa35-425b-843c-e274d86ab610",
   "metadata": {},
   "outputs": [
    {
     "name": "stdout",
     "output_type": "stream",
     "text": [
      "dibothriocephalus_latus\n",
      "echinococcus_canadensis\n",
      "echinococcus_granulosus\n",
      "echinococcus_multilocularis\n",
      "echinococcus_oligarthrus\n",
      "gyrodactylus_salaris\n",
      "hydatigera_taeniaeformis\n",
      "hymenolepis_diminuta\n",
      "hymenolepis_microstoma\n",
      "hymenolepis_nana\n",
      "macrostomum_lignano\n",
      "mesocestoides_corti\n",
      "protopolystoma_xenopodis\n",
      "schistocephalus_solidus\n",
      "schmidtea_mediterranea\n",
      "spirometra_erinaceieuropaei\n",
      "taenia_asiatica\n",
      "taenia_multiceps\n",
      "taenia_saginata\n",
      "taenia_solium\n"
     ]
    }
   ],
   "source": [
    "# connecting to server\n",
    "current_dir = os.getcwd() # get current folder\n",
    "os.chdir('../orthologous_groups/data/set_cestoda_monogenea_turbellaria/original_set') # move to folder to download\n",
    "\n",
    "with FTP('ftp.ebi.ac.uk') as ftp:\n",
    "    ftp.login('anonymous', '') # login to server\n",
    "    # move to location of WBPS15\n",
    "    ftp.cwd('pub/databases/wormbase/parasite/releases/WBPS15/species')\n",
    "    #print(ftp.nlst())\n",
    "    for species_dir in ftp.nlst():\n",
    "        if ' '.join(species_dir.split('_')).capitalize() in cestode_genome_species+monogenean_genome_species+turbellarian_genome_species:\n",
    "            print(species_dir) # print species just to know\n",
    "            ftp.cwd(species_dir)\n",
    "            for assembly in ftp.nlst():\n",
    "                ftp.cwd(assembly)\n",
    "                proteome_file = [file for file in ftp.nlst() if 'protein' in file][0] # get files\n",
    "                if not os.path.exists(proteome_file):\n",
    "                    with open(proteome_file, 'wb') as file: # download file\n",
    "                        ftp.retrbinary(f\"RETR {proteome_file}\", file.write)\n",
    "                ftp.cwd('../')\n",
    "            ftp.cwd('/pub/databases/wormbase/parasite/releases/WBPS15/species')\n",
    "\n",
    "os.chdir(current_dir) # get to original folder"
   ]
  },
  {
   "cell_type": "markdown",
   "id": "e57568a6-14bb-4457-ad06-a408b99de38d",
   "metadata": {},
   "source": [
    "# Renaming sequences for further analyses"
   ]
  },
  {
   "cell_type": "markdown",
   "id": "f116ef98-0bee-4f1b-9489-f94e46e87e01",
   "metadata": {},
   "source": [
    "## Get already used sequence codes"
   ]
  },
  {
   "cell_type": "code",
   "execution_count": 3,
   "id": "36b4ef67-76c5-407a-a85e-3ff228f8603f",
   "metadata": {},
   "outputs": [],
   "source": [
    "import pandas as pd\n",
    "correspondence_codes_table = pd.read_csv('../orthologous_groups/data/trematode_set/code_correspondence_isoform_aware.tsv', sep = '\\t')\n",
    "employed_codes = list(set([label.split('.')[0] for label in correspondence_codes_table['new_label'].to_list()]))"
   ]
  },
  {
   "cell_type": "code",
   "execution_count": 4,
   "id": "00ff6137-367c-46bc-ad11-9831d1c50807",
   "metadata": {},
   "outputs": [
    {
     "data": {
      "text/plain": [
       "['ABQ',\n",
       " 'ABD',\n",
       " 'ABR',\n",
       " 'ABI',\n",
       " 'ABF',\n",
       " 'ABM',\n",
       " 'ABO',\n",
       " 'ABP',\n",
       " 'ABN',\n",
       " 'ABS',\n",
       " 'ABC',\n",
       " 'ABJ',\n",
       " 'ABK',\n",
       " 'ABL',\n",
       " 'ABE',\n",
       " 'ABG',\n",
       " 'ABH']"
      ]
     },
     "execution_count": 4,
     "metadata": {},
     "output_type": "execute_result"
    }
   ],
   "source": [
    "employed_codes"
   ]
  },
  {
   "cell_type": "markdown",
   "id": "722a31a3-6147-4ccd-9ad1-ed56d3467808",
   "metadata": {},
   "source": [
    "## Creating a three-letter code independent of that already created for trematodes\n",
    "Just using a four letter code obtained from the publication *Compositional analysis of flatworm genomes shows a strong codon usage bias across all classes* (https://www.frontiersin.org/articles/10.3389/fgene.2019.00771/full) (of our group) and PlanMine (that uses a similar code).\n",
    "\n",
    "- *E. granulosus*: Egra\n",
    "- E. multilocularis - Emu\n",
    "- Hymenolepis diminuta - Hdim\n",
    "- Mesocestoides corti - Mcor\n",
    "- Schistocephalus solidus - Ssol\n",
    "- Opistorchis viverrini - Oviv\n",
    "- Clonorchis sinensis - Csin\n",
    "- Fasciola hepatica - Fhep\n",
    "etc...\n"
   ]
  },
  {
   "cell_type": "code",
   "execution_count": 5,
   "id": "ff234505-1e5b-454d-8cb7-ef2c36d54707",
   "metadata": {},
   "outputs": [],
   "source": [
    "species2code = {species: species.split(' ')[0][0]+species.split(' ')[1][0:3].lower() for species in cestode_genome_species+monogenean_genome_species+turbellarian_genome_species} # create a dictionary species-code"
   ]
  },
  {
   "cell_type": "markdown",
   "id": "ad9906dd-0d06-48bc-9bfc-9ad94c0bcfe8",
   "metadata": {},
   "source": [
    "Now taking into account same scheme to get codes for trematodes and rename OGs to get a coherent naming frame!"
   ]
  },
  {
   "cell_type": "code",
   "execution_count": 29,
   "id": "4dffd402-ae77-4852-87f9-0f455161b920",
   "metadata": {},
   "outputs": [],
   "source": [
    "# now for trematodes\n",
    "oldtremcode2new_dict = {} # create dictionary for old code2new\n",
    "\n",
    "for fasta_file in glob.glob('../orthologous_groups/data/trematode_set/renamed_set/*'):\n",
    "    # get the species name\n",
    "    trematodes_species = ' '.join(fasta_file.rpartition('/')[2].split('.')[0].split('_')).capitalize()\n",
    "    # generating new code for that trematode\n",
    "    new_trematode_code = trematodes_species.split(' ')[0][0]+trematodes_species.split(' ')[1][0:3].lower()\n",
    "    # get current code\n",
    "    current_code = list(set([record.id.split('.')[0] for record in SeqIO.parse(fasta_file, 'fasta')]))[0]\n",
    "    if current_code == 'ABG':\n",
    "        # update <oldtremcode2new_dict>\n",
    "        oldtremcode2new_dict.update({current_code: 'Fbus'})\n",
    "        # update <species2code>\n",
    "        species2code.update({'Fasciolopsis buski': 'Fbus'})\n",
    "    else:\n",
    "        # update <oldtremcode2new_dict>\n",
    "        oldtremcode2new_dict.update({current_code: new_trematode_code})\n",
    "        # update <species2code>\n",
    "        species2code.update({trematodes_species: new_trematode_code})"
   ]
  },
  {
   "cell_type": "code",
   "execution_count": 30,
   "id": "b6ef170a-afa5-42ba-b812-6dcf5f09d370",
   "metadata": {},
   "outputs": [
    {
     "data": {
      "text/plain": [
       "{'ABP': 'Smar',\n",
       " 'ABE': 'Fgig',\n",
       " 'ABM': 'Shae',\n",
       " 'ABI': 'Oviv',\n",
       " 'ABC': 'Csin',\n",
       " 'ABG': 'Fbus',\n",
       " 'ABQ': 'Smat',\n",
       " 'ABS': 'Treg',\n",
       " 'ABO': 'Sman',\n",
       " 'ABH': 'Ofel',\n",
       " 'ABD': 'Ecap',\n",
       " 'ABJ': 'Pwes',\n",
       " 'ABK': 'Sbov',\n",
       " 'ABN': 'Sjap',\n",
       " 'ABR': 'Srod',\n",
       " 'ABL': 'Scur',\n",
       " 'ABF': 'Fhep'}"
      ]
     },
     "execution_count": 30,
     "metadata": {},
     "output_type": "execute_result"
    }
   ],
   "source": [
    "oldtremcode2new_dict"
   ]
  },
  {
   "cell_type": "code",
   "execution_count": 31,
   "id": "bd3a8a25-be23-4195-b941-97f287f66841",
   "metadata": {},
   "outputs": [
    {
     "data": {
      "text/plain": [
       "{'Dibothriocephalus latus': 'Dlat',\n",
       " 'Echinococcus canadensis': 'Ecan',\n",
       " 'Echinococcus granulosus': 'Egra',\n",
       " 'Echinococcus multilocularis': 'Emul',\n",
       " 'Echinococcus oligarthrus': 'Eoli',\n",
       " 'Hydatigera taeniaeformis': 'Htae',\n",
       " 'Hymenolepis diminuta': 'Hdim',\n",
       " 'Hymenolepis microstoma': 'Hmic',\n",
       " 'Hymenolepis nana': 'Hnan',\n",
       " 'Mesocestoides corti': 'Mcor',\n",
       " 'Schistocephalus solidus': 'Ssol',\n",
       " 'Spirometra erinaceieuropaei': 'Seri',\n",
       " 'Taenia asiatica': 'Tasi',\n",
       " 'Taenia multiceps': 'Tmul',\n",
       " 'Taenia saginata': 'Tsag',\n",
       " 'Taenia solium': 'Tsol',\n",
       " 'Gyrodactylus salaris': 'Gsal',\n",
       " 'Protopolystoma xenopodis': 'Pxen',\n",
       " 'Macrostomum lignano': 'Mlig',\n",
       " 'Schmidtea mediterranea': 'Smed',\n",
       " 'Schistosoma margrebowiei': 'Smar',\n",
       " 'Fasciola gigantica': 'Fgig',\n",
       " 'Schistosoma haematobium': 'Shae',\n",
       " 'Opisthorchis viverrini': 'Oviv',\n",
       " 'Clonorchis sinensis': 'Csin',\n",
       " 'Schistosoma mattheei': 'Smat',\n",
       " 'Trichobilharzia regenti': 'Treg',\n",
       " 'Schistosoma mansoni': 'Sman',\n",
       " 'Opisthorchis felineus': 'Ofel',\n",
       " 'Echinostoma caproni': 'Ecap',\n",
       " 'Paragonimus westermani': 'Pwes',\n",
       " 'Schistosoma bovis': 'Sbov',\n",
       " 'Schistosoma japonicum': 'Sjap',\n",
       " 'Schistosoma rodhaini': 'Srod',\n",
       " 'Schistosoma curassoni': 'Scur',\n",
       " 'Fasciola hepatica': 'Fhep',\n",
       " 'Fasciolopsis buski': 'Fbus'}"
      ]
     },
     "execution_count": 31,
     "metadata": {},
     "output_type": "execute_result"
    }
   ],
   "source": [
    "species2code"
   ]
  },
  {
   "cell_type": "code",
   "execution_count": 22,
   "id": "37ba74ff-1c2e-4966-9762-6c2b0536e21a",
   "metadata": {},
   "outputs": [],
   "source": [
    "# create function to perform operation over OGs with parallelization\n",
    "def rename_trematode_og(fasta_file, outdir):\n",
    "    fasta_filename = fasta_file.rpartition('/')[2] # get fasta name\n",
    "    fasta_records = [record for record in SeqIO.parse(fasta_file, 'fasta')] # get records\n",
    "    # iterate over sequences on the FASTA and replace, for each record ID, to the replace old code with new\n",
    "    for record in fasta_records:\n",
    "        species_code = record.id.split('.')[0] # get species code\n",
    "        seq_number = record.id.split('.')[1] # get the number of the sequence\n",
    "        record.id = oldtremcode2new_dict[species_code] + '.' + seq_number # rename record id\n",
    "        record.name = ''\n",
    "        record.description = ''\n",
    "    # save fasta if not already present\n",
    "    fasta_outname = outdir + '/' + fasta_filename\n",
    "    if not os.path.exists(fasta_outname):\n",
    "        with open(fasta_outname, 'w') as handle_fasta:\n",
    "            SeqIO.write(fasta_records, handle_fasta, 'fasta')"
   ]
  },
  {
   "cell_type": "code",
   "execution_count": 32,
   "id": "36028533-83bf-49a1-8521-edf64bb987d2",
   "metadata": {},
   "outputs": [],
   "source": [
    "# create folders to allocate renamed OGs\n",
    "create_dir('../og_trimal_analyses/data/og_full_set/ogs_purged_by_species_and_length_with_more_than_one_seq_newtremcode')\n",
    "\n",
    "# operate in concurrent way for all relevant files\n",
    "import concurrent.futures\n",
    "import multiprocessing\n",
    "\n",
    "avail_threads = multiprocessing.cpu_count()\n",
    "with concurrent.futures.ThreadPoolExecutor(max_workers = (avail_threads - 1)) as executor:\n",
    "        # operate over all OGs, and then see what happends\n",
    "        for og_fasta in glob.glob('../og_trimal_analyses/data/og_full_set/ogs_purged_by_species_and_length_with_more_than_one_seq/*.fa'):\n",
    "            outdir = '../og_trimal_analyses/data/og_full_set/ogs_purged_by_species_and_length_with_more_than_one_seq_newtremcode'\n",
    "            args = (og_fasta, outdir)\n",
    "            executor.map(rename_trematode_og(*args), chunksize = 10)"
   ]
  },
  {
   "cell_type": "markdown",
   "id": "81ac33e7-ce0a-4973-a200-e1cc08776727",
   "metadata": {},
   "source": [
    "## Renaming"
   ]
  },
  {
   "cell_type": "code",
   "execution_count": 7,
   "id": "395736d3-a214-40f3-a4ed-a19ec831f306",
   "metadata": {},
   "outputs": [
    {
     "name": "stdout",
     "output_type": "stream",
     "text": [
      "../orthologous_groups/data/set_cestoda_monogenea_turbellaria/original_set/taenia_saginata.PRJNA71493.WBPS15.protein.fa\n",
      "../orthologous_groups/data/set_cestoda_monogenea_turbellaria/original_set/hydatigera_taeniaeformis.PRJEB534.WBPS15.protein.fa\n",
      "../orthologous_groups/data/set_cestoda_monogenea_turbellaria/original_set/echinococcus_canadensis.PRJEB8992.WBPS15.protein.fa\n",
      "../orthologous_groups/data/set_cestoda_monogenea_turbellaria/original_set/mesocestoides_corti.PRJEB510.WBPS15.protein.fa\n",
      "../orthologous_groups/data/set_cestoda_monogenea_turbellaria/original_set/macrostomum_lignano.PRJNA284736.WBPS15.protein.fa\n",
      "../orthologous_groups/data/set_cestoda_monogenea_turbellaria/original_set/hymenolepis_diminuta.PRJEB507.WBPS15.protein.fa\n",
      "../orthologous_groups/data/set_cestoda_monogenea_turbellaria/original_set/hymenolepis_diminuta.PRJEB30942.WBPS15.protein.fa\n",
      "../orthologous_groups/data/set_cestoda_monogenea_turbellaria/original_set/taenia_asiatica.PRJEB532.WBPS15.protein.fa\n",
      "../orthologous_groups/data/set_cestoda_monogenea_turbellaria/original_set/echinococcus_oligarthrus.PRJEB31222.WBPS15.protein.fa\n",
      "../orthologous_groups/data/set_cestoda_monogenea_turbellaria/original_set/schmidtea_mediterranea.PRJNA379262.WBPS15.protein.fa\n",
      "../orthologous_groups/data/set_cestoda_monogenea_turbellaria/original_set/dibothriocephalus_latus.PRJEB1206.WBPS15.protein.fa\n",
      "../orthologous_groups/data/set_cestoda_monogenea_turbellaria/original_set/schmidtea_mediterranea.PRJNA12585.WBPS15.protein.fa\n",
      "../orthologous_groups/data/set_cestoda_monogenea_turbellaria/original_set/taenia_solium.PRJNA170813.WBPS15.protein.fa\n",
      "../orthologous_groups/data/set_cestoda_monogenea_turbellaria/original_set/echinococcus_multilocularis.PRJEB122.WBPS15.protein.fa\n",
      "../orthologous_groups/data/set_cestoda_monogenea_turbellaria/original_set/echinococcus_granulosus.PRJEB121.WBPS15.protein.fa\n",
      "../orthologous_groups/data/set_cestoda_monogenea_turbellaria/original_set/macrostomum_lignano.PRJNA371498.WBPS15.protein.fa\n",
      "../orthologous_groups/data/set_cestoda_monogenea_turbellaria/original_set/gyrodactylus_salaris.PRJNA244375.WBPS15.protein.fa\n",
      "../orthologous_groups/data/set_cestoda_monogenea_turbellaria/original_set/taenia_asiatica.PRJNA299871.WBPS15.protein.fa\n",
      "../orthologous_groups/data/set_cestoda_monogenea_turbellaria/original_set/taenia_multiceps.PRJNA307624.WBPS15.protein.fa\n",
      "../orthologous_groups/data/set_cestoda_monogenea_turbellaria/original_set/spirometra_erinaceieuropaei.PRJEB1202.WBPS15.protein.fa\n",
      "../orthologous_groups/data/set_cestoda_monogenea_turbellaria/original_set/echinococcus_granulosus.PRJNA182977.WBPS15.protein.fa\n",
      "../orthologous_groups/data/set_cestoda_monogenea_turbellaria/original_set/protopolystoma_xenopodis.PRJEB1201.WBPS15.protein.fa\n",
      "../orthologous_groups/data/set_cestoda_monogenea_turbellaria/original_set/hymenolepis_microstoma.PRJEB124.WBPS15.protein.fa\n",
      "../orthologous_groups/data/set_cestoda_monogenea_turbellaria/original_set/hymenolepis_nana.PRJEB508.WBPS15.protein.fa\n",
      "../orthologous_groups/data/set_cestoda_monogenea_turbellaria/original_set/schistocephalus_solidus.PRJEB527.WBPS15.protein.fa\n"
     ]
    },
    {
     "ename": "ValueError",
     "evalue": "No objects to concatenate",
     "output_type": "error",
     "traceback": [
      "\u001b[0;31m---------------------------------------------------------------------------\u001b[0m",
      "\u001b[0;31mValueError\u001b[0m                                Traceback (most recent call last)",
      "\u001b[0;32m/tmp/ipykernel_380908/607576299.py\u001b[0m in \u001b[0;36m<module>\u001b[0;34m\u001b[0m\n\u001b[1;32m     32\u001b[0m \u001b[0;34m\u001b[0m\u001b[0m\n\u001b[1;32m     33\u001b[0m \u001b[0;31m# create table\u001b[0m\u001b[0;34m\u001b[0m\u001b[0;34m\u001b[0m\u001b[0;34m\u001b[0m\u001b[0m\n\u001b[0;32m---> 34\u001b[0;31m \u001b[0mname_correspondence_table\u001b[0m \u001b[0;34m=\u001b[0m \u001b[0mpd\u001b[0m\u001b[0;34m.\u001b[0m\u001b[0mconcat\u001b[0m\u001b[0;34m(\u001b[0m\u001b[0mname_correspondence_rows\u001b[0m\u001b[0;34m)\u001b[0m\u001b[0;34m\u001b[0m\u001b[0;34m\u001b[0m\u001b[0m\n\u001b[0m",
      "\u001b[0;32m~/anaconda3/envs/jupiteriano/lib/python3.9/site-packages/pandas/util/_decorators.py\u001b[0m in \u001b[0;36mwrapper\u001b[0;34m(*args, **kwargs)\u001b[0m\n\u001b[1;32m    309\u001b[0m                     \u001b[0mstacklevel\u001b[0m\u001b[0;34m=\u001b[0m\u001b[0mstacklevel\u001b[0m\u001b[0;34m,\u001b[0m\u001b[0;34m\u001b[0m\u001b[0;34m\u001b[0m\u001b[0m\n\u001b[1;32m    310\u001b[0m                 )\n\u001b[0;32m--> 311\u001b[0;31m             \u001b[0;32mreturn\u001b[0m \u001b[0mfunc\u001b[0m\u001b[0;34m(\u001b[0m\u001b[0;34m*\u001b[0m\u001b[0margs\u001b[0m\u001b[0;34m,\u001b[0m \u001b[0;34m**\u001b[0m\u001b[0mkwargs\u001b[0m\u001b[0;34m)\u001b[0m\u001b[0;34m\u001b[0m\u001b[0;34m\u001b[0m\u001b[0m\n\u001b[0m\u001b[1;32m    312\u001b[0m \u001b[0;34m\u001b[0m\u001b[0m\n\u001b[1;32m    313\u001b[0m         \u001b[0;32mreturn\u001b[0m \u001b[0mwrapper\u001b[0m\u001b[0;34m\u001b[0m\u001b[0;34m\u001b[0m\u001b[0m\n",
      "\u001b[0;32m~/anaconda3/envs/jupiteriano/lib/python3.9/site-packages/pandas/core/reshape/concat.py\u001b[0m in \u001b[0;36mconcat\u001b[0;34m(objs, axis, join, ignore_index, keys, levels, names, verify_integrity, sort, copy)\u001b[0m\n\u001b[1;32m    292\u001b[0m     \u001b[0mValueError\u001b[0m\u001b[0;34m:\u001b[0m \u001b[0mIndexes\u001b[0m \u001b[0mhave\u001b[0m \u001b[0moverlapping\u001b[0m \u001b[0mvalues\u001b[0m\u001b[0;34m:\u001b[0m \u001b[0;34m[\u001b[0m\u001b[0;34m'a'\u001b[0m\u001b[0;34m]\u001b[0m\u001b[0;34m\u001b[0m\u001b[0;34m\u001b[0m\u001b[0m\n\u001b[1;32m    293\u001b[0m     \"\"\"\n\u001b[0;32m--> 294\u001b[0;31m     op = _Concatenator(\n\u001b[0m\u001b[1;32m    295\u001b[0m         \u001b[0mobjs\u001b[0m\u001b[0;34m,\u001b[0m\u001b[0;34m\u001b[0m\u001b[0;34m\u001b[0m\u001b[0m\n\u001b[1;32m    296\u001b[0m         \u001b[0maxis\u001b[0m\u001b[0;34m=\u001b[0m\u001b[0maxis\u001b[0m\u001b[0;34m,\u001b[0m\u001b[0;34m\u001b[0m\u001b[0;34m\u001b[0m\u001b[0m\n",
      "\u001b[0;32m~/anaconda3/envs/jupiteriano/lib/python3.9/site-packages/pandas/core/reshape/concat.py\u001b[0m in \u001b[0;36m__init__\u001b[0;34m(self, objs, axis, join, keys, levels, names, ignore_index, verify_integrity, copy, sort)\u001b[0m\n\u001b[1;32m    349\u001b[0m \u001b[0;34m\u001b[0m\u001b[0m\n\u001b[1;32m    350\u001b[0m         \u001b[0;32mif\u001b[0m \u001b[0mlen\u001b[0m\u001b[0;34m(\u001b[0m\u001b[0mobjs\u001b[0m\u001b[0;34m)\u001b[0m \u001b[0;34m==\u001b[0m \u001b[0;36m0\u001b[0m\u001b[0;34m:\u001b[0m\u001b[0;34m\u001b[0m\u001b[0;34m\u001b[0m\u001b[0m\n\u001b[0;32m--> 351\u001b[0;31m             \u001b[0;32mraise\u001b[0m \u001b[0mValueError\u001b[0m\u001b[0;34m(\u001b[0m\u001b[0;34m\"No objects to concatenate\"\u001b[0m\u001b[0;34m)\u001b[0m\u001b[0;34m\u001b[0m\u001b[0;34m\u001b[0m\u001b[0m\n\u001b[0m\u001b[1;32m    352\u001b[0m \u001b[0;34m\u001b[0m\u001b[0m\n\u001b[1;32m    353\u001b[0m         \u001b[0;32mif\u001b[0m \u001b[0mkeys\u001b[0m \u001b[0;32mis\u001b[0m \u001b[0;32mNone\u001b[0m\u001b[0;34m:\u001b[0m\u001b[0;34m\u001b[0m\u001b[0;34m\u001b[0m\u001b[0m\n",
      "\u001b[0;31mValueError\u001b[0m: No objects to concatenate"
     ]
    }
   ],
   "source": [
    "import gzip # import library\n",
    "from Bio import SeqIO\n",
    "\n",
    "# create vector to allocate info on this seqs\n",
    "name_correspondence_rows = []\n",
    "for fasta_gzip in glob.glob('../orthologous_groups/data/set_cestoda_monogenea_turbellaria/original_set/*.fa'):\n",
    "    print(fasta_gzip)\n",
    "    # get species name\n",
    "    splitted_line = fasta_gzip.rpartition('/')[2].split('.')[0].split('_')\n",
    "    species_name = ''.join(splitted_line[0].capitalize() + ' ' + splitted_line[1])\n",
    "    # get species code\n",
    "    species_code = species2code[species_name]\n",
    "    #fasta_records =  # get the FASTA records\n",
    "    # renaming with a loop\n",
    "    # saving sequences\n",
    "    species_filename = fasta_gzip.rpartition('/')[2].rpartition('.')[0]\n",
    "    output_fasta = '../orthologous_groups/data/set_cestoda_monogenea_turbellaria/renamed_set/{0}.renamed.fa'.format(species_filename)\n",
    "    if not os.path.exists(output_fasta):        \n",
    "        fasta_records = [record for record in SeqIO.parse(fasta_gzip, 'fasta')]\n",
    "        for record_data in enumerate(fasta_records, start = 1):\n",
    "            index_num, record = record_data # unpack\n",
    "            # rename the sequence\n",
    "            #print(record)\n",
    "            seq_name = species_code + '.' + str(index_num)\n",
    "            # append to vector of seq names\n",
    "            name_correspondence_rows.append(pd.DataFrame.from_dict({'seq_full_id': [record.description],  'code': [seq_name]}))\n",
    "            record.id = seq_name\n",
    "            record.name = seq_name\n",
    "            record.description = seq_name\n",
    "            with open(output_fasta, 'a') as handle_fasta:\n",
    "                SeqIO.write(record, handle_fasta, 'fasta')\n",
    "\n",
    "# create table\n",
    "name_correspondence_table = pd.concat(name_correspondence_rows)"
   ]
  },
  {
   "cell_type": "code",
   "execution_count": null,
   "id": "e20e7126-bd94-43c2-aefe-65482510769a",
   "metadata": {},
   "outputs": [],
   "source": [
    "name_correspondence_table.head()"
   ]
  },
  {
   "cell_type": "code",
   "execution_count": null,
   "id": "3bceac1a-e1e7-4bcc-8a13-1102bbe75220",
   "metadata": {},
   "outputs": [],
   "source": [
    "# save correspondence table\n",
    "name_correspondence_table.to_csv('../orthologous_groups/data/set_cestoda_monogenea_turbellaria/cestoda_monogenea_turbellaria_index_code.tsv', \n",
    "                                 sep = '\\t', index = False, header = True)"
   ]
  }
 ],
 "metadata": {
  "kernelspec": {
   "display_name": "Python 3 (ipykernel)",
   "language": "python",
   "name": "python3"
  },
  "language_info": {
   "codemirror_mode": {
    "name": "ipython",
    "version": 3
   },
   "file_extension": ".py",
   "mimetype": "text/x-python",
   "name": "python",
   "nbconvert_exporter": "python",
   "pygments_lexer": "ipython3",
   "version": "3.10.6"
  }
 },
 "nbformat": 4,
 "nbformat_minor": 5
}
